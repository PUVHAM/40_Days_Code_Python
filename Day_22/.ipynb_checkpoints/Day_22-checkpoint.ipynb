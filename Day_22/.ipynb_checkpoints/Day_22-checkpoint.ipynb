{
 "cells": [
  {
   "cell_type": "markdown",
   "id": "df2fdd3b-4d7e-4449-b5f4-d77838521250",
   "metadata": {},
   "source": [
    "# While-loop"
   ]
  },
  {
   "cell_type": "code",
   "execution_count": 31,
   "id": "574e67c5-642a-40a6-b5c0-354b87605e5d",
   "metadata": {},
   "outputs": [],
   "source": [
    "import random"
   ]
  },
  {
   "cell_type": "code",
   "execution_count": 32,
   "id": "651fc5da-bbd7-4afd-9d90-6b7be8ae45d1",
   "metadata": {},
   "outputs": [],
   "source": [
    "def random_number_with_condition(total):\n",
    "    random.seed(0)\n",
    "    count = 0\n",
    "    sum = 0\n",
    "    \n",
    "    while sum != total:\n",
    "        a = random.randint(1, 20)\n",
    "        b = random.randint(1, 20)\n",
    "        sum = a + b\n",
    "        count += 1\n",
    "\n",
    "    return count"
   ]
  },
  {
   "cell_type": "code",
   "execution_count": 33,
   "id": "215d8a32-f9ea-4bf8-b26a-0be67b152290",
   "metadata": {},
   "outputs": [
    {
     "data": {
      "text/plain": [
       "266"
      ]
     },
     "execution_count": 33,
     "metadata": {},
     "output_type": "execute_result"
    }
   ],
   "source": [
    "random_number_with_condition(40)"
   ]
  },
  {
   "cell_type": "code",
   "execution_count": 34,
   "id": "67d721c7-19e9-402a-acf6-340d4fc070eb",
   "metadata": {},
   "outputs": [
    {
     "data": {
      "text/plain": [
       "32"
      ]
     },
     "execution_count": 34,
     "metadata": {},
     "output_type": "execute_result"
    }
   ],
   "source": [
    "random_number_with_condition(20)"
   ]
  },
  {
   "cell_type": "code",
   "execution_count": 35,
   "id": "db71457c-ee03-435d-b8e8-eae4bf266aef",
   "metadata": {},
   "outputs": [
    {
     "data": {
      "text/plain": [
       "96"
      ]
     },
     "execution_count": 35,
     "metadata": {},
     "output_type": "execute_result"
    }
   ],
   "source": [
    "random_number_with_condition(35)"
   ]
  },
  {
   "cell_type": "markdown",
   "id": "585104af-dd9b-4c8a-8b42-53454275c14b",
   "metadata": {},
   "source": [
    "# While-loop + continue & break"
   ]
  },
  {
   "cell_type": "code",
   "execution_count": 36,
   "id": "048b3f6e-f592-4c4a-9ba5-6155b41aec9c",
   "metadata": {},
   "outputs": [],
   "source": [
    "def find_divisible_number(a):\n",
    "    num = 101\n",
    "\n",
    "    while True:\n",
    "        if num % a == 0:\n",
    "            break\n",
    "        num += 1\n",
    "\n",
    "    return num"
   ]
  },
  {
   "cell_type": "code",
   "execution_count": 37,
   "id": "fe5620d8-5f3c-4e3c-b379-b91358dde041",
   "metadata": {},
   "outputs": [
    {
     "data": {
      "text/plain": [
       "105"
      ]
     },
     "execution_count": 37,
     "metadata": {},
     "output_type": "execute_result"
    }
   ],
   "source": [
    "find_divisible_number(5)"
   ]
  },
  {
   "cell_type": "code",
   "execution_count": 38,
   "id": "abf135d0-8c43-4621-9443-c98be20695bd",
   "metadata": {},
   "outputs": [
    {
     "data": {
      "text/plain": [
       "102"
      ]
     },
     "execution_count": 38,
     "metadata": {},
     "output_type": "execute_result"
    }
   ],
   "source": [
    "find_divisible_number(17)"
   ]
  }
 ],
 "metadata": {
  "kernelspec": {
   "display_name": "Python 3 (ipykernel)",
   "language": "python",
   "name": "python3"
  },
  "language_info": {
   "codemirror_mode": {
    "name": "ipython",
    "version": 3
   },
   "file_extension": ".py",
   "mimetype": "text/x-python",
   "name": "python",
   "nbconvert_exporter": "python",
   "pygments_lexer": "ipython3",
   "version": "3.11.7"
  }
 },
 "nbformat": 4,
 "nbformat_minor": 5
}
