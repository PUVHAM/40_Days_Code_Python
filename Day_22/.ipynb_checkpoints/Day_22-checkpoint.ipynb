{
 "cells": [
  {
   "cell_type": "markdown",
   "id": "df2fdd3b-4d7e-4449-b5f4-d77838521250",
   "metadata": {},
   "source": [
    "# While-loop"
   ]
  },
  {
   "cell_type": "code",
   "execution_count": 1,
   "id": "574e67c5-642a-40a6-b5c0-354b87605e5d",
   "metadata": {},
   "outputs": [],
   "source": [
    "import random"
   ]
  },
  {
   "cell_type": "code",
   "execution_count": 2,
   "id": "651fc5da-bbd7-4afd-9d90-6b7be8ae45d1",
   "metadata": {},
   "outputs": [],
   "source": [
    "def random_number_with_condition(total):\n",
    "    random.seed(0)\n",
    "    count = 0\n",
    "    a = 0\n",
    "    b = 0\n",
    "    \n",
    "    while a + b != total:\n",
    "        a = random.randint(1, 20)\n",
    "        b = random.randint(1, 20)\n",
    "        count += 1\n",
    "\n",
    "    return count"
   ]
  },
  {
   "cell_type": "code",
   "execution_count": null,
   "id": "215d8a32-f9ea-4bf8-b26a-0be67b152290",
   "metadata": {},
   "outputs": [],
   "source": [
    "random_number_with_condition"
   ]
  }
 ],
 "metadata": {
  "kernelspec": {
   "display_name": "Python 3 (ipykernel)",
   "language": "python",
   "name": "python3"
  },
  "language_info": {
   "codemirror_mode": {
    "name": "ipython",
    "version": 3
   },
   "file_extension": ".py",
   "mimetype": "text/x-python",
   "name": "python",
   "nbconvert_exporter": "python",
   "pygments_lexer": "ipython3",
   "version": "3.11.7"
  }
 },
 "nbformat": 4,
 "nbformat_minor": 5
}
