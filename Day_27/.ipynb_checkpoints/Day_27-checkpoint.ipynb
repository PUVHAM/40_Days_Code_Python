{
 "cells": [
  {
   "cell_type": "code",
   "execution_count": 1,
   "id": "8e8335a8-4331-476b-ac67-2a6482a18312",
   "metadata": {},
   "outputs": [],
   "source": [
    "from underthesea import *"
   ]
  },
  {
   "cell_type": "code",
   "execution_count": 3,
   "id": "1457d4ef-c88d-4590-af5f-f3006e65846a",
   "metadata": {},
   "outputs": [],
   "source": [
    "text = 'Công cụ Suno AI nhanh chóng nhận được sự chú ý từ người dùng khi có thể tạo bài hát chỉ với vài câu lệnh. Phiên bản mới nhất V3 Alpha mới được giới thiệu cuối tháng 2, có bản miễn phí với 10 bài hát mỗi ngày.'"
   ]
  },
  {
   "cell_type": "code",
   "execution_count": 4,
   "id": "63c2dc8e-7f69-4250-a4ee-89ce49b78521",
   "metadata": {},
   "outputs": [
    {
     "data": {
      "text/plain": [
       "[('Công cụ', 'N'),\n",
       " ('Suno', 'Np'),\n",
       " ('AI', 'P'),\n",
       " ('nhanh chóng', 'A'),\n",
       " ('nhận', 'V'),\n",
       " ('được', 'R'),\n",
       " ('sự', 'N'),\n",
       " ('chú ý', 'V'),\n",
       " ('từ', 'E'),\n",
       " ('người', 'N'),\n",
       " ('dùng', 'V'),\n",
       " ('khi', 'N'),\n",
       " ('có thể', 'R'),\n",
       " ('tạo', 'V'),\n",
       " ('bài', 'N'),\n",
       " ('hát', 'V'),\n",
       " ('chỉ', 'R'),\n",
       " ('với', 'E'),\n",
       " ('vài', 'L'),\n",
       " ('câu', 'N'),\n",
       " ('lệnh', 'N'),\n",
       " ('.', 'CH'),\n",
       " ('Phiên bản', 'V'),\n",
       " ('mới', 'A'),\n",
       " ('nhất', 'A'),\n",
       " ('V3 Alpha', 'Np'),\n",
       " ('mới', 'R'),\n",
       " ('được', 'V'),\n",
       " ('giới thiệu', 'V'),\n",
       " ('cuối', 'N'),\n",
       " ('tháng', 'N'),\n",
       " ('2', 'M'),\n",
       " (',', 'CH'),\n",
       " ('có', 'V'),\n",
       " ('bản', 'N'),\n",
       " ('miễn phí', 'V'),\n",
       " ('với', 'E'),\n",
       " ('10', 'M'),\n",
       " ('bài', 'N'),\n",
       " ('hát', 'V'),\n",
       " ('mỗi', 'L'),\n",
       " ('ngày', 'N'),\n",
       " ('.', 'CH')]"
      ]
     },
     "execution_count": 4,
     "metadata": {},
     "output_type": "execute_result"
    }
   ],
   "source": [
    "# pos tagging\n",
    "pos_tag(text)"
   ]
  },
  {
   "cell_type": "code",
   "execution_count": 6,
   "id": "5b3e698d-54e6-4327-ab96-edbecb7b888c",
   "metadata": {},
   "outputs": [
    {
     "data": {
      "text/plain": [
       "['vi_tinh']"
      ]
     },
     "execution_count": 6,
     "metadata": {},
     "output_type": "execute_result"
    }
   ],
   "source": [
    "# text classification\n",
    "classify(text)"
   ]
  },
  {
   "cell_type": "code",
   "execution_count": 8,
   "id": "9394abd5-bedb-4508-8f1d-d24bb07f630d",
   "metadata": {},
   "outputs": [
    {
     "data": {
      "text/plain": [
       "'positive'"
      ]
     },
     "execution_count": 8,
     "metadata": {},
     "output_type": "execute_result"
    }
   ],
   "source": [
    "# sentiment analysis\n",
    "sentiment(text)"
   ]
  },
  {
   "cell_type": "code",
   "execution_count": 9,
   "id": "ce156072-5d07-4eac-99f1-ca6bd42d8f19",
   "metadata": {},
   "outputs": [
    {
     "data": {
      "text/plain": [
       "['Công cụ Suno AI nhanh chóng nhận được sự chú ý từ người dùng khi có thể tạo bài hát chỉ với vài câu lệnh.',\n",
       " 'Phiên bản mới nhất V3 Alpha mới được giới thiệu cuối tháng 2, có bản miễn phí với 10 bài hát mỗi ngày.']"
      ]
     },
     "execution_count": 9,
     "metadata": {},
     "output_type": "execute_result"
    }
   ],
   "source": [
    "# sentence segmentation\n",
    "sent_tokenize(text)"
   ]
  },
  {
   "cell_type": "code",
   "execution_count": 11,
   "id": "66f1a75a-2082-418f-9998-130d07fc9999",
   "metadata": {},
   "outputs": [
    {
     "data": {
      "text/plain": [
       "['Công cụ',\n",
       " 'Suno',\n",
       " 'AI',\n",
       " 'nhanh chóng',\n",
       " 'nhận',\n",
       " 'được',\n",
       " 'sự',\n",
       " 'chú ý',\n",
       " 'từ',\n",
       " 'người',\n",
       " 'dùng',\n",
       " 'khi',\n",
       " 'có thể',\n",
       " 'tạo',\n",
       " 'bài',\n",
       " 'hát',\n",
       " 'chỉ',\n",
       " 'với',\n",
       " 'vài',\n",
       " 'câu',\n",
       " 'lệnh',\n",
       " '.',\n",
       " 'Phiên bản',\n",
       " 'mới',\n",
       " 'nhất',\n",
       " 'V3 Alpha',\n",
       " 'mới',\n",
       " 'được',\n",
       " 'giới thiệu',\n",
       " 'cuối',\n",
       " 'tháng',\n",
       " '2',\n",
       " ',',\n",
       " 'có',\n",
       " 'bản',\n",
       " 'miễn phí',\n",
       " 'với',\n",
       " '10',\n",
       " 'bài',\n",
       " 'hát',\n",
       " 'mỗi',\n",
       " 'ngày',\n",
       " '.']"
      ]
     },
     "execution_count": 11,
     "metadata": {},
     "output_type": "execute_result"
    }
   ],
   "source": [
    "# word segmentation\n",
    "word_tokenize(text)"
   ]
  }
 ],
 "metadata": {
  "kernelspec": {
   "display_name": "Python 3 (ipykernel)",
   "language": "python",
   "name": "python3"
  },
  "language_info": {
   "codemirror_mode": {
    "name": "ipython",
    "version": 3
   },
   "file_extension": ".py",
   "mimetype": "text/x-python",
   "name": "python",
   "nbconvert_exporter": "python",
   "pygments_lexer": "ipython3",
   "version": "3.11.7"
  }
 },
 "nbformat": 4,
 "nbformat_minor": 5
}
