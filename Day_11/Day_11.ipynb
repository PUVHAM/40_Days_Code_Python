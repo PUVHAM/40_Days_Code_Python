{
 "cells": [
  {
   "cell_type": "code",
   "execution_count": 29,
   "id": "56442843-c786-406b-a6d9-c9d92510762e",
   "metadata": {},
   "outputs": [],
   "source": [
    "corpus = [\"Tôi thích môn Toán\", \"Tôi thích AI\", \"Tôi thích âm nhạc\"]"
   ]
  },
  {
   "cell_type": "code",
   "execution_count": 30,
   "id": "9c165cd6-a0db-4b6d-b1f8-265d527c6974",
   "metadata": {},
   "outputs": [
    {
     "name": "stdout",
     "output_type": "stream",
     "text": [
      "['Tôi', 'thích', 'môn', 'Toán', 'AI', 'âm', 'nhạc']\n"
     ]
    }
   ],
   "source": [
    "lst = []\n",
    "for sen in corpus:\n",
    "    sen = sen.split()\n",
    "    for word in sen:\n",
    "        if word not in lst:\n",
    "            lst.append(word)\n",
    "print(lst)"
   ]
  },
  {
   "cell_type": "code",
   "execution_count": 31,
   "id": "c6d389d5-1bc6-4821-acac-1c9246fd4637",
   "metadata": {},
   "outputs": [
    {
     "name": "stdout",
     "output_type": "stream",
     "text": [
      "['Tôi', 'thích', 'AI', 'thích', 'Toán']\n"
     ]
    }
   ],
   "source": [
    "vector = \"Tôi thích AI thích Toán\"\n",
    "vector = vector.split()\n",
    "print(vector)"
   ]
  },
  {
   "cell_type": "code",
   "execution_count": 32,
   "id": "9a06f484-3ce3-41e5-a930-acd7ab22ebbd",
   "metadata": {},
   "outputs": [
    {
     "name": "stdout",
     "output_type": "stream",
     "text": [
      "[1, 2, 0, 1, 1, 0, 0]\n"
     ]
    }
   ],
   "source": [
    "lst_num = [0 for i in range(len(lst))]\n",
    "for item in vector:\n",
    "    if item in lst:\n",
    "        idx = lst.index(item)\n",
    "        lst_num[idx] += 1\n",
    "\n",
    "print(lst_num)  "
   ]
  },
  {
   "cell_type": "code",
   "execution_count": null,
   "id": "f2467513-10cd-49be-8444-9fc8447e7a67",
   "metadata": {},
   "outputs": [],
   "source": []
  }
 ],
 "metadata": {
  "kernelspec": {
   "display_name": "Python 3 (ipykernel)",
   "language": "python",
   "name": "python3"
  },
  "language_info": {
   "codemirror_mode": {
    "name": "ipython",
    "version": 3
   },
   "file_extension": ".py",
   "mimetype": "text/x-python",
   "name": "python",
   "nbconvert_exporter": "python",
   "pygments_lexer": "ipython3",
   "version": "3.11.7"
  }
 },
 "nbformat": 4,
 "nbformat_minor": 5
}
