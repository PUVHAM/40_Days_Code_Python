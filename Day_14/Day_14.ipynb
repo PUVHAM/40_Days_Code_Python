{
 "cells": [
  {
   "cell_type": "code",
   "execution_count": 1,
   "id": "38db89d7-5de6-4bec-9209-02cdcaf3b52d",
   "metadata": {},
   "outputs": [],
   "source": [
    "import numpy as np\n",
    "import torch\n",
    "import tensorflow as tf"
   ]
  },
  {
   "cell_type": "code",
   "execution_count": 22,
   "id": "b288636a-bdbb-4cce-a498-10b72d95cacd",
   "metadata": {},
   "outputs": [],
   "source": [
    "np.random.seed(2024)\n",
    "torch.manual_seed(2024)\n",
    "tf.random.set_seed(2024)"
   ]
  },
  {
   "cell_type": "markdown",
   "id": "f070d74d-30b8-4fba-ae71-843ff537ebf0",
   "metadata": {},
   "source": [
    "# Câu 1"
   ]
  },
  {
   "cell_type": "code",
   "execution_count": 23,
   "id": "e4364341-1de3-4219-bf6a-afd9d3420ae6",
   "metadata": {},
   "outputs": [
    {
     "data": {
      "text/plain": [
       "array([[-80, -46, 128],\n",
       "       [-33, -30,  67],\n",
       "       [-25, -25,  42]])"
      ]
     },
     "execution_count": 23,
     "metadata": {},
     "output_type": "execute_result"
    }
   ],
   "source": [
    "arr_2D_1 = np.random.randint(-10,10,(3,4))\n",
    "arr_2D_2 = np.random.randint(-10,10,(3,4))\n",
    "np.dot(arr_2D_1,arr_2D_2.T)"
   ]
  },
  {
   "cell_type": "code",
   "execution_count": 24,
   "id": "ed07a4fa-772f-4f0e-a550-7691864aa3fd",
   "metadata": {},
   "outputs": [
    {
     "data": {
      "text/plain": [
       "tensor([[  22,   36,  -62],\n",
       "        [ -89,  163,   99],\n",
       "        [  87, -180, -148]])"
      ]
     },
     "execution_count": 24,
     "metadata": {},
     "output_type": "execute_result"
    }
   ],
   "source": [
    "tor_2D_1 = torch.randint(-10,10,(3,4))\n",
    "tor_2D_2 = torch.randint(-10,10,(3,4))\n",
    "tor_2D_1 @ torch.transpose(tor_2D_2,0,1)"
   ]
  },
  {
   "cell_type": "code",
   "execution_count": 29,
   "id": "56f72dbc-12a2-44df-9eef-b2112889514c",
   "metadata": {},
   "outputs": [
    {
     "data": {
      "text/plain": [
       "<tf.Tensor: shape=(3, 3), dtype=int32, numpy=\n",
       "array([[ 26,  39, -34],\n",
       "       [ 27, -54, -52],\n",
       "       [-60,  81,  82]])>"
      ]
     },
     "execution_count": 29,
     "metadata": {},
     "output_type": "execute_result"
    }
   ],
   "source": [
    "tf_2D_1 = tf.random.uniform((3,4),-10,10,dtype=tf.int32)\n",
    "tf_2D_2 = tf.random.uniform((3,4),-10,10,dtype=tf.int32)\n",
    "tf_2D_1 @ tf.transpose(tf_2D_2)"
   ]
  },
  {
   "cell_type": "markdown",
   "id": "1e102eb2-69c4-49e5-8001-6d646ed501aa",
   "metadata": {},
   "source": [
    "# Câu 2"
   ]
  },
  {
   "cell_type": "code",
   "execution_count": 33,
   "id": "2b3f9243-80e1-49c3-af09-9208f4dffa14",
   "metadata": {},
   "outputs": [
    {
     "name": "stdout",
     "output_type": "stream",
     "text": [
      "-4\n",
      "[-6  4 -2]\n",
      "[-6  6 -4]\n"
     ]
    }
   ],
   "source": [
    "arr_2D_1 = np.random.randint(-10,10,(3,3))\n",
    "print(np.sum(arr_2D_1))\n",
    "print(np.sum(arr_2D_1,axis = 0))\n",
    "print(np.sum(arr_2D_1,axis = 1))"
   ]
  },
  {
   "cell_type": "code",
   "execution_count": 34,
   "id": "349d7aaa-9f91-4e0b-9f2b-b767d9dccb93",
   "metadata": {},
   "outputs": [
    {
     "name": "stdout",
     "output_type": "stream",
     "text": [
      "tensor(12)\n",
      "tensor([3, 6, 3])\n",
      "tensor([11, -8,  9])\n"
     ]
    }
   ],
   "source": [
    "tor_2D_1 = torch.randint(-10,10,(3,3))\n",
    "print(torch.sum(tor_2D_1))\n",
    "print(torch.sum(tor_2D_1,axis = 0))\n",
    "print(torch.sum(tor_2D_1,axis = 1))"
   ]
  },
  {
   "cell_type": "code",
   "execution_count": 37,
   "id": "e6ec32f9-ce70-4621-9617-ecfe73bb6408",
   "metadata": {},
   "outputs": [
    {
     "name": "stdout",
     "output_type": "stream",
     "text": [
      "tf.Tensor(33, shape=(), dtype=int32)\n",
      "tf.Tensor([14  7 12], shape=(3,), dtype=int32)\n",
      "tf.Tensor([23 -5 15], shape=(3,), dtype=int32)\n"
     ]
    }
   ],
   "source": [
    "tf_2D_1 = tf.random.uniform((3,3),-10,10,dtype=tf.int32)\n",
    "print(tf.reduce_sum(tf_2D_1))\n",
    "print(tf.reduce_sum(tf_2D_1,axis = 0))\n",
    "print(tf.reduce_sum(tf_2D_1,axis = 1))"
   ]
  },
  {
   "cell_type": "code",
   "execution_count": null,
   "id": "8203fe60-fd33-4623-8911-85e1b526ff05",
   "metadata": {},
   "outputs": [],
   "source": []
  }
 ],
 "metadata": {
  "kernelspec": {
   "display_name": "Python 3 (ipykernel)",
   "language": "python",
   "name": "python3"
  },
  "language_info": {
   "codemirror_mode": {
    "name": "ipython",
    "version": 3
   },
   "file_extension": ".py",
   "mimetype": "text/x-python",
   "name": "python",
   "nbconvert_exporter": "python",
   "pygments_lexer": "ipython3",
   "version": "3.11.7"
  }
 },
 "nbformat": 4,
 "nbformat_minor": 5
}
