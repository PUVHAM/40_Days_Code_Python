{
 "cells": [
  {
   "cell_type": "code",
   "execution_count": 1,
   "id": "c343baab-9a9d-436b-878e-e1fce32b329e",
   "metadata": {},
   "outputs": [],
   "source": [
    "import math"
   ]
  },
  {
   "cell_type": "code",
   "execution_count": 6,
   "id": "0be6ddc5-9dd5-4f55-b883-9edf02725172",
   "metadata": {},
   "outputs": [],
   "source": [
    "def quadratic_equation(a, b, c):\n",
    "    x1 = 0 \n",
    "    x2 = 0\n",
    "    delta = b**2 - 4*a*c\n",
    "    #when a = 0: y = bx + c\n",
    "    if a == 0:\n",
    "        if b == 0 and c != 0:\n",
    "            print(\"No solution\")\n",
    "        elif b == 0 and c == 0:\n",
    "            print(\"Many solutions\")\n",
    "        else:\n",
    "            x = -c / b\n",
    "            print(f\"x = {x}\")\n",
    "    else:\n",
    "        if delta > 0:\n",
    "            x1 = (-b-math.sqrt(delta)) / (2*a)\n",
    "            x2 = (-b+math.sqrt(delta)) / (2*a)\n",
    "            print(f\"x1: {x1}\")\n",
    "            print(f\"x2: {x2}\")\n",
    "        elif delta == 0:\n",
    "            x1 = - b / (2 * a)\n",
    "            print(f\"x1: {x1}\")\n",
    "            print(f\"x2: {x1}\")\n",
    "        else:\n",
    "            print(\"No solution\")"
   ]
  },
  {
   "cell_type": "code",
   "execution_count": 7,
   "id": "9f8c2e53-af56-4731-bd9a-a81bd81fb0f1",
   "metadata": {},
   "outputs": [
    {
     "name": "stdout",
     "output_type": "stream",
     "text": [
      "x1: -2.0\n",
      "x2: -1.0\n"
     ]
    }
   ],
   "source": [
    "quadratic_equation(2,6,4)"
   ]
  },
  {
   "cell_type": "code",
   "execution_count": 8,
   "id": "288476ff-7d85-4839-b38d-f17a77014313",
   "metadata": {},
   "outputs": [
    {
     "name": "stdout",
     "output_type": "stream",
     "text": [
      "x1: -1.0\n",
      "x2: -1.0\n"
     ]
    }
   ],
   "source": [
    "quadratic_equation(1,2,1)"
   ]
  },
  {
   "cell_type": "code",
   "execution_count": 9,
   "id": "10ef8f81-5d5e-4cbb-bf5d-74e98fb9c8e2",
   "metadata": {},
   "outputs": [
    {
     "name": "stdout",
     "output_type": "stream",
     "text": [
      "No solution\n"
     ]
    }
   ],
   "source": [
    "quadratic_equation(4,6,3)"
   ]
  }
 ],
 "metadata": {
  "kernelspec": {
   "display_name": "Python 3 (ipykernel)",
   "language": "python",
   "name": "python3"
  },
  "language_info": {
   "codemirror_mode": {
    "name": "ipython",
    "version": 3
   },
   "file_extension": ".py",
   "mimetype": "text/x-python",
   "name": "python",
   "nbconvert_exporter": "python",
   "pygments_lexer": "ipython3",
   "version": "3.11.7"
  }
 },
 "nbformat": 4,
 "nbformat_minor": 5
}
