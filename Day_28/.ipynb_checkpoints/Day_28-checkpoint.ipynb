{
 "cells": [
  {
   "cell_type": "code",
   "execution_count": 7,
   "id": "2df6bc38-98d7-4755-82e0-f9db55f4a2c8",
   "metadata": {},
   "outputs": [],
   "source": [
    "text = 'Công cụ Suno AI nhanh chóng nhận được sự chú ý từ người dùng khi có thể tạo bài hát chỉ với vài câu lệnh. Phiên bản mới nhất V3 Alpha mới được giới thiệu cuối tháng 2, có bản miễn phí với 10 bài hát mỗi ngày.'"
   ]
  },
  {
   "cell_type": "markdown",
   "id": "3b311d0f-5620-49a8-a6aa-2bfca7a32fc3",
   "metadata": {},
   "source": [
    "# Translate lib"
   ]
  },
  {
   "cell_type": "code",
   "execution_count": 23,
   "id": "a2671613-44b1-40ff-a0bc-68d068eb8e01",
   "metadata": {},
   "outputs": [
    {
     "name": "stdout",
     "output_type": "stream",
     "text": [
      "The Suno AI tool quickly gets users' attention when it is possible to create a song with just a few commands. The latest version of V3 Alpha was just introduced at the end of February, there is a free version with 10 songs per day.\n"
     ]
    }
   ],
   "source": [
    "from translate import Translator\n",
    "\n",
    "translator = Translator(from_lang='vi', to_lang='en')\n",
    "translation = translator.translate(text)\n",
    "\n",
    "print(translation)"
   ]
  },
  {
   "cell_type": "code",
   "execution_count": 24,
   "id": "7ffe18da-2237-4241-9243-9d72e2fdbab3",
   "metadata": {},
   "outputs": [
    {
     "name": "stdout",
     "output_type": "stream",
     "text": [
      "Suno AIツールは、いくつかのコマンドで曲を作成できるときに、ユーザーの注意を素早く引きます。V 3 Alphaの最新バージョンは2月末に発売されたばかりで、1日10曲の無料バージョンがあります。\n"
     ]
    }
   ],
   "source": [
    "translator = Translator(from_lang='vi', to_lang='ja')\n",
    "translation = translator.translate(text)\n",
    "\n",
    "print(translation)"
   ]
  },
  {
   "cell_type": "markdown",
   "id": "e93105b7-7214-43fe-922b-0161de7bc4b7",
   "metadata": {},
   "source": [
    "# Googletrans lib"
   ]
  },
  {
   "cell_type": "code",
   "execution_count": 26,
   "id": "3bad3d2b-9e97-45bb-a633-82e2e6709576",
   "metadata": {},
   "outputs": [
    {
     "name": "stdout",
     "output_type": "stream",
     "text": [
      "Translated(src=vi, dest=en, text=Suno AI tools quickly get attention from users when they can create a song with just a few statements.The latest version of V3 Alpha was introduced at the end of February, with a free version with 10 songs a day., pronunciation=None, extra_data=\"{'confiden...\")\n",
      "\n",
      "Suno AI tools quickly get attention from users when they can create a song with just a few statements.The latest version of V3 Alpha was introduced at the end of February, with a free version with 10 songs a day.\n"
     ]
    }
   ],
   "source": [
    "from googletrans import Translator\n",
    "\n",
    "translate = Translator()\n",
    "result = translate.translate(text, src = 'vi', dest = 'en')\n",
    "\n",
    "print(result)\n",
    "print(f'\\n{result.text}')"
   ]
  },
  {
   "cell_type": "code",
   "execution_count": 27,
   "id": "8b30c21c-b50f-43b0-852b-f6c8493a61bd",
   "metadata": {},
   "outputs": [
    {
     "name": "stdout",
     "output_type": "stream",
     "text": [
      "Translated(src=vi, dest=ja, text=Suno AIツールは、ユーザーがいくつかのステートメントで曲を作成できる場合、ユーザーからすぐに注目を集めます。V3 Alphaの最新バージョンは2月末に紹介され、1日10曲の無料バージョンがありました。, pronunciation=Suno AI tsūru wa, yūzā ga ikutsu ka no sutētomento de kyoku o sakusei dekiru baai, yūzā kara sugu ni chūmoku o atsumemasu. V 3 Alpha no saishin bājon wa 2 getsumatsu ni shōkai sa re, 1-nichi 10-kyoku no muryō bājon ga arimashita., extra_data=\"{'confiden...\")\n",
      "\n",
      "Suno AIツールは、ユーザーがいくつかのステートメントで曲を作成できる場合、ユーザーからすぐに注目を集めます。V3 Alphaの最新バージョンは2月末に紹介され、1日10曲の無料バージョンがありました。\n"
     ]
    }
   ],
   "source": [
    "translate = Translator()\n",
    "result = translate.translate(text, src = 'vi', dest = 'ja')\n",
    "\n",
    "print(result)\n",
    "print(f'\\n{result.text}')"
   ]
  },
  {
   "cell_type": "code",
   "execution_count": null,
   "id": "fc58a4a3-6e4c-43e3-af40-5795c6a35f13",
   "metadata": {},
   "outputs": [],
   "source": []
  }
 ],
 "metadata": {
  "kernelspec": {
   "display_name": "Python 3 (ipykernel)",
   "language": "python",
   "name": "python3"
  },
  "language_info": {
   "codemirror_mode": {
    "name": "ipython",
    "version": 3
   },
   "file_extension": ".py",
   "mimetype": "text/x-python",
   "name": "python",
   "nbconvert_exporter": "python",
   "pygments_lexer": "ipython3",
   "version": "3.11.7"
  }
 },
 "nbformat": 4,
 "nbformat_minor": 5
}
