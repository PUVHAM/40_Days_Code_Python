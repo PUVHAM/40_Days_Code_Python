{
 "cells": [
  {
   "cell_type": "code",
   "execution_count": 1,
   "id": "1d104351-9ec8-4638-ae4d-40aff18f2a61",
   "metadata": {},
   "outputs": [],
   "source": [
    "lst_data = [1,1.1,None,1.4,None,1.5,None,2.0]"
   ]
  },
  {
   "cell_type": "code",
   "execution_count": 2,
   "id": "0af73ca9-0108-4ad0-b001-cd906af2753b",
   "metadata": {},
   "outputs": [
    {
     "name": "stdout",
     "output_type": "stream",
     "text": [
      "Vị trí None đầu tiên: 2 - Danh sách vị trí có giá trị None: [2, 4, 6]\n"
     ]
    }
   ],
   "source": [
    "lst_idx = []\n",
    "for i, item in enumerate(lst_data):\n",
    "    if item == None:\n",
    "        lst_idx.append(i)\n",
    "\n",
    "print(f'Vị trí None đầu tiên: {lst_idx[0]} - Danh sách vị trí có giá trị None: {lst_idx}')"
   ]
  }
 ],
 "metadata": {
  "kernelspec": {
   "display_name": "Python 3 (ipykernel)",
   "language": "python",
   "name": "python3"
  },
  "language_info": {
   "codemirror_mode": {
    "name": "ipython",
    "version": 3
   },
   "file_extension": ".py",
   "mimetype": "text/x-python",
   "name": "python",
   "nbconvert_exporter": "python",
   "pygments_lexer": "ipython3",
   "version": "3.11.7"
  }
 },
 "nbformat": 4,
 "nbformat_minor": 5
}
