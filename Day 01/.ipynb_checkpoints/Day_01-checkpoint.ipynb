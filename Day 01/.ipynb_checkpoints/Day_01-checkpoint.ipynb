{
 "cells": [
  {
   "cell_type": "code",
   "execution_count": 6,
   "id": "0441dce5-6c61-4484-8247-176191631fd1",
   "metadata": {},
   "outputs": [],
   "source": [
    "def caculate_can_chi_calendar(year):\n",
    "    result = ''\n",
    "    lst_can = [\"Canh\",\"Tân\",\"Nhâm\",\"Quý\",\"Giáp\",\"Ất\",\"Bính\",\"Đinh\",\"Mậu\",\"Kỷ\"]\n",
    "    lst_chi = [\"Thân\",\"Dậu\",\"Tuất\",\"Hợi\",\"Tý\",\"Sửu\",\"Dần\",\"Mão\",\"Thìn\",\"Tỵ\",\"Ngọ\",\"Mùi\"]\n",
    "    result = lst_can[year%10] + ' ' + lst_chi[year%12]\n",
    "    return result"
   ]
  },
  {
   "cell_type": "code",
   "execution_count": 7,
   "id": "48f8ff84-24c3-48a7-b9ff-16c817add867",
   "metadata": {},
   "outputs": [
    {
     "data": {
      "text/plain": [
       "'Giáp Thìn'"
      ]
     },
     "execution_count": 7,
     "metadata": {},
     "output_type": "execute_result"
    }
   ],
   "source": [
    "caculate_can_chi_calendar(2024)"
   ]
  },
  {
   "cell_type": "code",
   "execution_count": 8,
   "id": "e885af90-5789-4c45-bb24-d5851aff03ab",
   "metadata": {},
   "outputs": [
    {
     "data": {
      "text/plain": [
       "'Quý Mão'"
      ]
     },
     "execution_count": 8,
     "metadata": {},
     "output_type": "execute_result"
    }
   ],
   "source": [
    "caculate_can_chi_calendar(2023)"
   ]
  },
  {
   "cell_type": "code",
   "execution_count": 9,
   "id": "3ceb7569-92ba-488b-bc41-de05ebdd31d6",
   "metadata": {},
   "outputs": [
    {
     "data": {
      "text/plain": [
       "'Đinh Sửu'"
      ]
     },
     "execution_count": 9,
     "metadata": {},
     "output_type": "execute_result"
    }
   ],
   "source": [
    "caculate_can_chi_calendar(1997)"
   ]
  }
 ],
 "metadata": {
  "kernelspec": {
   "display_name": "Python 3 (ipykernel)",
   "language": "python",
   "name": "python3"
  },
  "language_info": {
   "codemirror_mode": {
    "name": "ipython",
    "version": 3
   },
   "file_extension": ".py",
   "mimetype": "text/x-python",
   "name": "python",
   "nbconvert_exporter": "python",
   "pygments_lexer": "ipython3",
   "version": "3.11.7"
  }
 },
 "nbformat": 4,
 "nbformat_minor": 5
}
