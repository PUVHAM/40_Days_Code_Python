{
 "cells": [
  {
   "cell_type": "code",
   "execution_count": 1,
   "id": "a464bb15-0c84-4dab-b2eb-8d2e6a48ce9c",
   "metadata": {},
   "outputs": [],
   "source": [
    "lst_data = [1,1.1,None,1.4,None,1.5,None,2.0]"
   ]
  },
  {
   "cell_type": "code",
   "execution_count": 2,
   "id": "59c3089d-c13a-4452-8f39-50e7ac0bf219",
   "metadata": {},
   "outputs": [
    {
     "name": "stdout",
     "output_type": "stream",
     "text": [
      "[1, 1.1, 1.1, 1.4, 1.4, 1.5, 1.5, 2.0]\n"
     ]
    }
   ],
   "source": [
    "for i, num in enumerate(lst_data):\n",
    "    if num == None:\n",
    "        lst_data[i] = lst_data[i - 1]\n",
    "\n",
    "print(lst_data)"
   ]
  }
 ],
 "metadata": {
  "kernelspec": {
   "display_name": "Python 3 (ipykernel)",
   "language": "python",
   "name": "python3"
  },
  "language_info": {
   "codemirror_mode": {
    "name": "ipython",
    "version": 3
   },
   "file_extension": ".py",
   "mimetype": "text/x-python",
   "name": "python",
   "nbconvert_exporter": "python",
   "pygments_lexer": "ipython3",
   "version": "3.11.7"
  }
 },
 "nbformat": 4,
 "nbformat_minor": 5
}
