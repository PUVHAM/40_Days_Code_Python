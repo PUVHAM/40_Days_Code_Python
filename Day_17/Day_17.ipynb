{
 "cells": [
  {
   "cell_type": "markdown",
   "id": "4ac6a0a7-c452-40be-be17-009ce370a9ca",
   "metadata": {},
   "source": [
    "# 2D List"
   ]
  },
  {
   "cell_type": "code",
   "execution_count": 14,
   "id": "ad5f6585-d1a2-48c2-b6ac-2794a3714944",
   "metadata": {},
   "outputs": [],
   "source": [
    "lst_data = [\n",
    "    [1,2,3],\n",
    "    [4,5,6],\n",
    "    [7,8,9]\n",
    "]\n"
   ]
  },
  {
   "cell_type": "code",
   "execution_count": 15,
   "id": "44a5dba9-6afe-4dd9-9a89-52c23222f7f0",
   "metadata": {},
   "outputs": [
    {
     "name": "stdout",
     "output_type": "stream",
     "text": [
      "[[1, 3], [4, 6], [7, 9]]\n"
     ]
    }
   ],
   "source": [
    "lst_sub_data = lst_data.copy()\n",
    "for row in lst_sub_data:\n",
    "    if len(row) > 2:\n",
    "        row.pop(1)\n",
    "\n",
    "print(lst_sub_data)"
   ]
  },
  {
   "cell_type": "markdown",
   "id": "d4956eab-be34-4c9d-96cf-e137aa4877ac",
   "metadata": {},
   "source": [
    "# Matrix"
   ]
  },
  {
   "cell_type": "code",
   "execution_count": 16,
   "id": "30e55d43-88b0-41c8-b7ff-faa7ddac3d2e",
   "metadata": {},
   "outputs": [],
   "source": [
    "mat_a = [\n",
    "    [1,2,3],\n",
    "    [4,5,6],\n",
    "    [7,8,9]\n",
    "]\n",
    "mat_b = [\n",
    "    [2,4,6],\n",
    "    [1,3,5],\n",
    "    [1,0,1]\n",
    "]"
   ]
  },
  {
   "cell_type": "code",
   "execution_count": 34,
   "id": "111c5e08-eee9-4129-8248-ef27807f0da3",
   "metadata": {},
   "outputs": [
    {
     "name": "stdout",
     "output_type": "stream",
     "text": [
      "[[3, 6, 9], [5, 8, 11], [8, 8, 10]]\n",
      "[[-1, -2, -3], [3, 2, 1], [6, 8, 8]]\n"
     ]
    }
   ],
   "source": [
    "add = [[0 for i in range(len(mat_a))] for i in range(len(mat_a))]\n",
    "subtract = [[0 for i in range(len(mat_a))] for i in range(len(mat_a))]\n",
    "for i in range(len(mat_a)):\n",
    "    for j in range(len(mat_a[i])):\n",
    "        add[i][j] = (mat_a[i][j] + mat_b[i][j])\n",
    "        subtract[i][j] = (mat_a[i][j] - mat_b[i][j])\n",
    "\n",
    "print(add)\n",
    "print(subtract)"
   ]
  },
  {
   "cell_type": "code",
   "execution_count": 37,
   "id": "ddb965ec-b478-4cb1-a5c2-246a14e41343",
   "metadata": {},
   "outputs": [
    {
     "name": "stdout",
     "output_type": "stream",
     "text": [
      "[[7, 10, 19], [19, 31, 55], [31, 52, 91]]\n"
     ]
    }
   ],
   "source": [
    "dot = [[0 for i in range(len(mat_a))] for i in range(len(mat_a))]\n",
    "for i in range(len(mat_a)):\n",
    "    for j in range(len(mat_a[i])):\n",
    "        for k in range(len(mat_b)):\n",
    "            dot[i][j] += mat_a[i][k] * mat_b[k][j]\n",
    "\n",
    "print(dot)"
   ]
  },
  {
   "cell_type": "code",
   "execution_count": null,
   "id": "4b1ca870-0a69-457a-a65b-8f9830979ceb",
   "metadata": {},
   "outputs": [],
   "source": []
  }
 ],
 "metadata": {
  "kernelspec": {
   "display_name": "Python 3 (ipykernel)",
   "language": "python",
   "name": "python3"
  },
  "language_info": {
   "codemirror_mode": {
    "name": "ipython",
    "version": 3
   },
   "file_extension": ".py",
   "mimetype": "text/x-python",
   "name": "python",
   "nbconvert_exporter": "python",
   "pygments_lexer": "ipython3",
   "version": "3.11.7"
  }
 },
 "nbformat": 4,
 "nbformat_minor": 5
}
