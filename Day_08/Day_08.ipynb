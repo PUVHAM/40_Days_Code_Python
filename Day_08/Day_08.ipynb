{
 "cells": [
  {
   "cell_type": "code",
   "execution_count": 1,
   "id": "304716f1-f0d8-4feb-b689-cf8bf76e9a0c",
   "metadata": {},
   "outputs": [],
   "source": [
    "food_list = [\n",
    "    ['Bơ','Pizza','Sữa'],\n",
    "    ['Xúc xích','Táo','Kem'],\n",
    "    ['Cà rốt','Bánh dâu','Cupcake']\n",
    "]\n",
    "search_items = ['Cà rốt','Táo','Sữa']"
   ]
  },
  {
   "cell_type": "markdown",
   "id": "80897662-0aaf-496c-97f2-6365a776d4b0",
   "metadata": {},
   "source": [
    "# 1st way"
   ]
  },
  {
   "cell_type": "code",
   "execution_count": 3,
   "id": "34d088df-11af-4965-971c-aecbec889403",
   "metadata": {},
   "outputs": [
    {
     "name": "stdout",
     "output_type": "stream",
     "text": [
      "Vị trí của Sữa ở hàng 1, cột 3\n",
      "Vị trí của Táo ở hàng 2, cột 2\n",
      "Vị trí của Cà rốt ở hàng 3, cột 1\n"
     ]
    }
   ],
   "source": [
    "for i in range(len(food_list)):\n",
    "    for j in range(len(food_list[i])):\n",
    "        if food_list[i][j] in search_items:\n",
    "            print(f\"Vị trí của {food_list[i][j]} ở hàng {i + 1}, cột {j + 1}\")"
   ]
  },
  {
   "cell_type": "markdown",
   "id": "9e27d0cb-3d29-4a17-b851-9d30b9ffbf24",
   "metadata": {},
   "source": [
    "# 2nd way"
   ]
  },
  {
   "cell_type": "code",
   "execution_count": 4,
   "id": "8b309e06-50f6-4d20-b599-786727d171fa",
   "metadata": {},
   "outputs": [
    {
     "name": "stdout",
     "output_type": "stream",
     "text": [
      "Vị trí của Sữa ở hàng 1, cột 3\n",
      "Vị trí của Táo ở hàng 2, cột 2\n",
      "Vị trí của Cà rốt ở hàng 3, cột 1\n"
     ]
    }
   ],
   "source": [
    "for i, row in enumerate(food_list,start = 1):\n",
    "    for j, item in enumerate(row,start = 1):\n",
    "        if item in search_items:\n",
    "            print(f\"Vị trí của {item} ở hàng {i}, cột {j}\")"
   ]
  }
 ],
 "metadata": {
  "kernelspec": {
   "display_name": "Python 3 (ipykernel)",
   "language": "python",
   "name": "python3"
  },
  "language_info": {
   "codemirror_mode": {
    "name": "ipython",
    "version": 3
   },
   "file_extension": ".py",
   "mimetype": "text/x-python",
   "name": "python",
   "nbconvert_exporter": "python",
   "pygments_lexer": "ipython3",
   "version": "3.11.7"
  }
 },
 "nbformat": 4,
 "nbformat_minor": 5
}
