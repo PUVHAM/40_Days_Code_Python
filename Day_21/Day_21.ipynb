{
 "cells": [
  {
   "cell_type": "markdown",
   "id": "c9267b19-5611-4eb5-852d-66714fe9e645",
   "metadata": {},
   "source": [
    "# Câu 1"
   ]
  },
  {
   "cell_type": "code",
   "execution_count": 26,
   "id": "bd062a92-f23e-4f61-8517-16067f8f7dd0",
   "metadata": {},
   "outputs": [
    {
     "name": "stdout",
     "output_type": "stream",
     "text": [
      "he who conquers himself is the mightiest warrior try not to become a man of success but rather become a man of value one man with courage makes a majority one secret of success in life is for a man to be ready for his opportunity when it comes the successful man will profit from his mistakes and try again in a different way a successful man is one who can lay a firm foundation with the bricks others have thrown at him success usually comes to those who are too busy looking for it we cannot solve problems with the kind of thinking we employed when we came up with them just one small positive thought in the morning can change your whole day you can get everything in life you want if you will just help enough other people get what they want\n"
     ]
    }
   ],
   "source": [
    "with open('data.txt','r') as f:\n",
    "    data = f.read().replace('\\n', ' ').lower()\n",
    "\n",
    "print(data)"
   ]
  },
  {
   "cell_type": "markdown",
   "id": "a17739ef-56b4-4989-9bea-61864debc3db",
   "metadata": {},
   "source": [
    "# Câu 2"
   ]
  },
  {
   "cell_type": "code",
   "execution_count": 27,
   "id": "b70f73da-b335-4a05-9f37-e186cbd1eeb2",
   "metadata": {},
   "outputs": [
    {
     "name": "stdout",
     "output_type": "stream",
     "text": [
      "['he', 'who', 'conquers', 'himself', 'is', 'the', 'mightiest', 'warrior', 'try', 'not', 'to', 'become', 'a', 'man', 'of', 'success', 'but', 'rather', 'value', 'one', 'with', 'courage', 'makes', 'majority', 'secret', 'in', 'life', 'for', 'be', 'ready', 'his', 'opportunity', 'when', 'it', 'comes', 'successful', 'will', 'profit', 'from', 'mistakes', 'and', 'again', 'different', 'way', 'can', 'lay', 'firm', 'foundation', 'bricks', 'others', 'have', 'thrown', 'at', 'him', 'usually', 'those', 'are', 'too', 'busy', 'looking', 'we', 'cannot', 'solve', 'problems', 'kind', 'thinking', 'employed', 'came', 'up', 'them', 'just', 'small', 'positive', 'thought', 'morning', 'change', 'your', 'whole', 'day', 'you', 'get', 'everything', 'want', 'if', 'help', 'enough', 'other', 'people', 'what', 'they']\n"
     ]
    }
   ],
   "source": [
    "distinct_words = []\n",
    "data = data.split()\n",
    "\n",
    "for word in data:\n",
    "    if word not in distinct_words:\n",
    "        distinct_words.append(word)\n",
    "\n",
    "print(distinct_words)"
   ]
  },
  {
   "cell_type": "markdown",
   "id": "4f1a2a74-2948-46a1-9ec6-324be965f40b",
   "metadata": {},
   "source": [
    "# Câu 3"
   ]
  },
  {
   "cell_type": "code",
   "execution_count": 33,
   "id": "8136408c-bf0d-4987-9c00-258490a781aa",
   "metadata": {},
   "outputs": [
    {
     "name": "stdout",
     "output_type": "stream",
     "text": [
      "he in data is 1\n",
      "who in data is 3\n",
      "conquers in data is 1\n",
      "himself in data is 1\n",
      "is in data is 3\n",
      "the in data is 5\n",
      "mightiest in data is 1\n",
      "warrior in data is 1\n",
      "try in data is 2\n",
      "not in data is 1\n",
      "to in data is 3\n",
      "become in data is 2\n",
      "a in data is 7\n",
      "man in data is 6\n",
      "of in data is 4\n",
      "success in data is 3\n",
      "but in data is 1\n",
      "rather in data is 1\n",
      "value in data is 1\n",
      "one in data is 4\n",
      "with in data is 4\n",
      "courage in data is 1\n",
      "makes in data is 1\n",
      "majority in data is 1\n",
      "secret in data is 1\n",
      "in in data is 4\n",
      "life in data is 2\n",
      "for in data is 3\n",
      "be in data is 1\n",
      "ready in data is 1\n",
      "his in data is 2\n",
      "opportunity in data is 1\n",
      "when in data is 2\n",
      "it in data is 2\n",
      "comes in data is 2\n",
      "successful in data is 2\n",
      "will in data is 2\n",
      "profit in data is 1\n",
      "from in data is 1\n",
      "mistakes in data is 1\n",
      "and in data is 1\n",
      "again in data is 1\n",
      "different in data is 1\n",
      "way in data is 1\n",
      "can in data is 3\n",
      "lay in data is 1\n",
      "firm in data is 1\n",
      "foundation in data is 1\n",
      "bricks in data is 1\n",
      "others in data is 1\n",
      "have in data is 1\n",
      "thrown in data is 1\n",
      "at in data is 1\n",
      "him in data is 1\n",
      "usually in data is 1\n",
      "those in data is 1\n",
      "are in data is 1\n",
      "too in data is 1\n",
      "busy in data is 1\n",
      "looking in data is 1\n",
      "we in data is 3\n",
      "cannot in data is 1\n",
      "solve in data is 1\n",
      "problems in data is 1\n",
      "kind in data is 1\n",
      "thinking in data is 1\n",
      "employed in data is 1\n",
      "came in data is 1\n",
      "up in data is 1\n",
      "them in data is 1\n",
      "just in data is 2\n",
      "small in data is 1\n",
      "positive in data is 1\n",
      "thought in data is 1\n",
      "morning in data is 1\n",
      "change in data is 1\n",
      "your in data is 1\n",
      "whole in data is 1\n",
      "day in data is 1\n",
      "you in data is 3\n",
      "get in data is 2\n",
      "everything in data is 1\n",
      "want in data is 2\n",
      "if in data is 1\n",
      "help in data is 1\n",
      "enough in data is 1\n",
      "other in data is 1\n",
      "people in data is 1\n",
      "what in data is 1\n",
      "they in data is 1\n"
     ]
    }
   ],
   "source": [
    "lst_count = [0 for num in range(len(distinct_words))]\n",
    "\n",
    "for word in data:\n",
    "    if word in distinct_words:\n",
    "        idx = distinct_words.index(word)\n",
    "        lst_count[idx] += 1\n",
    "\n",
    "for num, word in enumerate(distinct_words):\n",
    "    print(f'{word} in data is {lst_count[num]}')"
   ]
  },
  {
   "cell_type": "code",
   "execution_count": 34,
   "id": "bdfc4910-1fbd-45ac-bbf1-134e0ec2219f",
   "metadata": {},
   "outputs": [
    {
     "name": "stdout",
     "output_type": "stream",
     "text": [
      "'['a']' is the most frequent word\n",
      "'['he', 'conquers', 'himself', 'mightiest', 'warrior', 'not', 'but', 'rather', 'value', 'courage', 'makes', 'majority', 'secret', 'be', 'ready', 'opportunity', 'profit', 'from', 'mistakes', 'and', 'again', 'different', 'way', 'lay', 'firm', 'foundation', 'bricks', 'others', 'have', 'thrown', 'at', 'him', 'usually', 'those', 'are', 'too', 'busy', 'looking', 'cannot', 'solve', 'problems', 'kind', 'thinking', 'employed', 'came', 'up', 'them', 'small', 'positive', 'thought', 'morning', 'change', 'your', 'whole', 'day', 'everything', 'if', 'help', 'enough', 'other', 'people', 'what', 'they']' is the least common word\n"
     ]
    }
   ],
   "source": [
    "lst_max = []\n",
    "lst_min = []\n",
    "for idx, num in enumerate(lst_count):\n",
    "    if num == max(lst_count):\n",
    "        lst_max.append(distinct_words[idx])\n",
    "    elif num == min(lst_count):\n",
    "        lst_min.append(distinct_words[idx])\n",
    "\n",
    "print(f\"\\'{lst_max}\\' is the most frequent word\")\n",
    "print(f\"\\'{lst_min}\\' is the least common word\")"
   ]
  }
 ],
 "metadata": {
  "kernelspec": {
   "display_name": "Python 3 (ipykernel)",
   "language": "python",
   "name": "python3"
  },
  "language_info": {
   "codemirror_mode": {
    "name": "ipython",
    "version": 3
   },
   "file_extension": ".py",
   "mimetype": "text/x-python",
   "name": "python",
   "nbconvert_exporter": "python",
   "pygments_lexer": "ipython3",
   "version": "3.11.7"
  }
 },
 "nbformat": 4,
 "nbformat_minor": 5
}
