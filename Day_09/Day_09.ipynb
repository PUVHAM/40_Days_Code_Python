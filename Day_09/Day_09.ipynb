{
 "cells": [
  {
   "cell_type": "markdown",
   "id": "91007f2e-4243-4fcc-a60d-971723441bbe",
   "metadata": {},
   "source": [
    "# Câu 1"
   ]
  },
  {
   "cell_type": "code",
   "execution_count": 13,
   "id": "04a621eb-e775-4a3a-86dd-320670a8d20b",
   "metadata": {},
   "outputs": [
    {
     "name": "stdout",
     "output_type": "stream",
     "text": [
      "[1, 2, 3, 4, 5, 6, 7, 8, 9, 10]\n"
     ]
    }
   ],
   "source": [
    "lst_data = [num for num in range(1,11)]\n",
    "print(lst_data)"
   ]
  },
  {
   "cell_type": "markdown",
   "id": "eb747085-d4e6-49c9-9008-ea5256d74599",
   "metadata": {},
   "source": [
    "# Câu 2"
   ]
  },
  {
   "cell_type": "code",
   "execution_count": 14,
   "id": "406f2170-19d7-4193-b176-78b9506ad08c",
   "metadata": {},
   "outputs": [
    {
     "name": "stdout",
     "output_type": "stream",
     "text": [
      "5.5\n"
     ]
    }
   ],
   "source": [
    "median = 0\n",
    "if len(lst_data) % 2 == 0:\n",
    "    median = (lst_data[(len(lst_data))//2 - 1] + lst_data[(len(lst_data))//2])/2\n",
    "else:\n",
    "    median = lst_data[(len(lst_data) + 1)//2 - 1]\n",
    "\n",
    "print(median)"
   ]
  },
  {
   "cell_type": "markdown",
   "id": "e319355a-75f7-4e93-bf1d-69c29c739718",
   "metadata": {},
   "source": [
    "# Câu 3"
   ]
  },
  {
   "cell_type": "code",
   "execution_count": 17,
   "id": "465eb5f5-53a9-4f54-a28b-d6c6207e80cd",
   "metadata": {},
   "outputs": [
    {
     "name": "stdout",
     "output_type": "stream",
     "text": [
      "[9, 7, 5, 3, 1]\n"
     ]
    }
   ],
   "source": [
    "lst_odd_filter = []\n",
    "for num in lst_data:\n",
    "    if num % 2 != 0:\n",
    "        lst_odd_filter.append(num)\n",
    "    \n",
    "lst_odd_filter = sorted(lst_odd_filter, reverse = True)\n",
    "print(lst_odd_filter)"
   ]
  },
  {
   "cell_type": "code",
   "execution_count": null,
   "id": "48a39821-becf-456a-aa4f-024a74e08258",
   "metadata": {},
   "outputs": [],
   "source": []
  }
 ],
 "metadata": {
  "kernelspec": {
   "display_name": "Python 3 (ipykernel)",
   "language": "python",
   "name": "python3"
  },
  "language_info": {
   "codemirror_mode": {
    "name": "ipython",
    "version": 3
   },
   "file_extension": ".py",
   "mimetype": "text/x-python",
   "name": "python",
   "nbconvert_exporter": "python",
   "pygments_lexer": "ipython3",
   "version": "3.11.7"
  }
 },
 "nbformat": 4,
 "nbformat_minor": 5
}
