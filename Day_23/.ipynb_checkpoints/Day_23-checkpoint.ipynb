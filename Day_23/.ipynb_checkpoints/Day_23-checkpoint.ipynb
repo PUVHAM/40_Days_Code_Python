{
 "cells": [
  {
   "cell_type": "code",
   "execution_count": 1,
   "id": "0192bed1-3f26-4a0a-b2b2-f00356d86509",
   "metadata": {},
   "outputs": [],
   "source": [
    "import numpy as np\n",
    "import torch\n",
    "import tensorflow as tf"
   ]
  },
  {
   "cell_type": "code",
   "execution_count": 2,
   "id": "cca2cb2f-048d-4471-962e-851559ca762c",
   "metadata": {},
   "outputs": [],
   "source": [
    "np.random.seed(2024)\n",
    "torch.manual_seed(2024)\n",
    "tf.random.set_seed(2024)"
   ]
  },
  {
   "cell_type": "markdown",
   "id": "94ee559e-f33c-43a0-a41b-006d1c3ab52e",
   "metadata": {},
   "source": [
    "# Câu 1"
   ]
  },
  {
   "cell_type": "code",
   "execution_count": 7,
   "id": "844767e2-8bf5-4f07-a255-33ebc0dbb793",
   "metadata": {},
   "outputs": [
    {
     "name": "stdout",
     "output_type": "stream",
     "text": [
      "[0 1 2 3 4 5 6 7 8 9]\n"
     ]
    }
   ],
   "source": [
    "print(np.arange(0,10,1))"
   ]
  },
  {
   "cell_type": "code",
   "execution_count": 8,
   "id": "67149823-9a74-4d16-a34f-7aeb9ea89409",
   "metadata": {},
   "outputs": [
    {
     "name": "stdout",
     "output_type": "stream",
     "text": [
      "tensor([0, 1, 2, 3, 4, 5, 6, 7, 8, 9])\n"
     ]
    }
   ],
   "source": [
    "print(torch.arange(0,10,1))"
   ]
  },
  {
   "cell_type": "code",
   "execution_count": 6,
   "id": "55a13d09-0503-4b00-b1c1-14baae489a79",
   "metadata": {},
   "outputs": [
    {
     "name": "stdout",
     "output_type": "stream",
     "text": [
      "tf.Tensor([0 1 2 3 4 5 6 7 8 9], shape=(10,), dtype=int32)\n"
     ]
    }
   ],
   "source": [
    "print(tf.range(0,10,1))"
   ]
  },
  {
   "cell_type": "markdown",
   "id": "1794db47-265e-41c6-a7e7-2bbfa4dc4c38",
   "metadata": {},
   "source": [
    "# Câu 2"
   ]
  },
  {
   "cell_type": "code",
   "execution_count": 10,
   "id": "f19a77df-5c55-49ee-8654-88e8c9f0740b",
   "metadata": {},
   "outputs": [
    {
     "name": "stdout",
     "output_type": "stream",
     "text": [
      "[[1. 0. 0.]\n",
      " [0. 1. 0.]\n",
      " [0. 0. 1.]]\n"
     ]
    }
   ],
   "source": [
    "print(np.eye(3,3))"
   ]
  },
  {
   "cell_type": "code",
   "execution_count": 11,
   "id": "59e7c2d5-9e86-4fe3-b92e-4dff18506e44",
   "metadata": {},
   "outputs": [
    {
     "name": "stdout",
     "output_type": "stream",
     "text": [
      "tensor([[1., 0., 0.],\n",
      "        [0., 1., 0.],\n",
      "        [0., 0., 1.]])\n"
     ]
    }
   ],
   "source": [
    "print(torch.eye(3,3))"
   ]
  },
  {
   "cell_type": "code",
   "execution_count": 12,
   "id": "1c8c0767-06cb-4c0b-918e-080d71c15ebc",
   "metadata": {},
   "outputs": [
    {
     "name": "stdout",
     "output_type": "stream",
     "text": [
      "tf.Tensor(\n",
      "[[1. 0. 0.]\n",
      " [0. 1. 0.]\n",
      " [0. 0. 1.]], shape=(3, 3), dtype=float32)\n"
     ]
    }
   ],
   "source": [
    "print(tf.eye(3,3))"
   ]
  },
  {
   "cell_type": "markdown",
   "id": "6a360c20-abed-4767-b982-0ee66ff97986",
   "metadata": {},
   "source": [
    "# Câu 3"
   ]
  },
  {
   "cell_type": "code",
   "execution_count": 14,
   "id": "a6245ce2-cec4-4f80-952f-b8458d81025b",
   "metadata": {},
   "outputs": [
    {
     "name": "stdout",
     "output_type": "stream",
     "text": [
      "[[0.58801452 0.69910875 0.18815196 0.04380856]\n",
      " [0.20501895 0.10606287 0.72724014 0.67940052]\n",
      " [0.4738457  0.44829582 0.01910695 0.75259834]]\n"
     ]
    }
   ],
   "source": [
    "print(np.random.rand(3,4))"
   ]
  },
  {
   "cell_type": "code",
   "execution_count": 15,
   "id": "1171a8cd-4fd3-4668-8b8c-3201eb1157b3",
   "metadata": {},
   "outputs": [
    {
     "name": "stdout",
     "output_type": "stream",
     "text": [
      "tensor([[0.5317, 0.8313, 0.9718, 0.1193],\n",
      "        [0.1669, 0.3495, 0.2150, 0.6201],\n",
      "        [0.4849, 0.7492, 0.1521, 0.5625]])\n"
     ]
    }
   ],
   "source": [
    "print(torch.rand(3,4))"
   ]
  },
  {
   "cell_type": "code",
   "execution_count": 17,
   "id": "a0ebc8ac-1de6-4057-b59b-fe8c916e69cc",
   "metadata": {},
   "outputs": [
    {
     "name": "stdout",
     "output_type": "stream",
     "text": [
      "tf.Tensor(\n",
      "[[0.90034294 0.19453335 0.36069036 0.66361904]\n",
      " [0.76605344 0.2159369  0.6261736  0.07380784]\n",
      " [0.22062695 0.934368   0.93327904 0.69267046]], shape=(3, 4), dtype=float32)\n"
     ]
    }
   ],
   "source": [
    "print(tf.random.uniform(shape = (3,4), minval = 0, maxval = 1,dtype=tf.float32))"
   ]
  },
  {
   "cell_type": "code",
   "execution_count": 22,
   "id": "4b5f42fc-2cb7-4f3c-be6c-3ee6d0095d8c",
   "metadata": {},
   "outputs": [
    {
     "name": "stdout",
     "output_type": "stream",
     "text": [
      "[[ -2  -9  -9   3]\n",
      " [-10   2  -3   8]\n",
      " [  1   8   3  -8]]\n"
     ]
    }
   ],
   "source": [
    "print(np.random.randint(-10,10,(3,4)))"
   ]
  },
  {
   "cell_type": "code",
   "execution_count": 23,
   "id": "3910f4f5-3c57-4963-a025-e400f4fe189b",
   "metadata": {},
   "outputs": [
    {
     "name": "stdout",
     "output_type": "stream",
     "text": [
      "tensor([[  1,   8,   0,  -2],\n",
      "        [ -9, -10,  -9,   0],\n",
      "        [ -3,  -7,  -4,   8]])\n"
     ]
    }
   ],
   "source": [
    "print(torch.randint(-10,10,(3,4)))"
   ]
  },
  {
   "cell_type": "code",
   "execution_count": 27,
   "id": "57440745-2d56-47a3-b051-4b04e09576bd",
   "metadata": {},
   "outputs": [
    {
     "name": "stdout",
     "output_type": "stream",
     "text": [
      "tf.Tensor(\n",
      "[[  4   3  -9  -7]\n",
      " [  4   9   0  -5]\n",
      " [-10   8   5 -10]], shape=(3, 4), dtype=int32)\n"
     ]
    }
   ],
   "source": [
    "print(tf.random.uniform(shape = (3,4), minval = -10, maxval = 10,dtype=tf.int32))"
   ]
  }
 ],
 "metadata": {
  "kernelspec": {
   "display_name": "Python 3 (ipykernel)",
   "language": "python",
   "name": "python3"
  },
  "language_info": {
   "codemirror_mode": {
    "name": "ipython",
    "version": 3
   },
   "file_extension": ".py",
   "mimetype": "text/x-python",
   "name": "python",
   "nbconvert_exporter": "python",
   "pygments_lexer": "ipython3",
   "version": "3.11.7"
  }
 },
 "nbformat": 4,
 "nbformat_minor": 5
}
