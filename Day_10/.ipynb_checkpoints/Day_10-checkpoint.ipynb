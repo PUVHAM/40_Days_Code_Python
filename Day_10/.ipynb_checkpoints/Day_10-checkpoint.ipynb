{
 "cells": [
  {
   "cell_type": "markdown",
   "id": "2d5a3c1d-bdd3-47b2-92f3-0aafe582d28c",
   "metadata": {},
   "source": [
    "# Câu 1"
   ]
  },
  {
   "cell_type": "code",
   "execution_count": 14,
   "id": "213318b4-8690-4be2-a250-aa168fc64a8e",
   "metadata": {},
   "outputs": [
    {
     "name": "stdout",
     "output_type": "stream",
     "text": [
      "[1, 2, 3, 4, 5, 6, 7, 8, 9, 10]\n"
     ]
    }
   ],
   "source": [
    "import numpy as np\n",
    "import torch\n",
    "import tensorflow as tf\n",
    "\n",
    "lst_1D = [num for num in range(1,11)]\n",
    "print(lst_1D)"
   ]
  },
  {
   "cell_type": "code",
   "execution_count": 15,
   "id": "80aac5a4-5f2b-42a1-b9e1-d06562c87d8b",
   "metadata": {},
   "outputs": [],
   "source": [
    "arr_1D = np.array(lst_1D)\n",
    "pt_1D = torch.tensor(lst_1D)\n",
    "tf_1D = tf.constant(lst_1D)"
   ]
  },
  {
   "cell_type": "code",
   "execution_count": 18,
   "id": "6fd829c1-8a1a-41b7-9428-8ed1ffaa2966",
   "metadata": {},
   "outputs": [
    {
     "name": "stdout",
     "output_type": "stream",
     "text": [
      "np: [ 1  2  3  4  5  6  7  8  9 10]\n",
      "pytorch: tensor([ 1,  2,  3,  4,  5,  6,  7,  8,  9, 10])\n",
      "tensorflow: tf.Tensor([ 1  2  3  4  5  6  7  8  9 10], shape=(10,), dtype=int32)\n"
     ]
    }
   ],
   "source": [
    "print(f\"np: {arr_1D}\")\n",
    "print(f\"pytorch: {pt_1D}\")\n",
    "print(\"tensorflow:\",tf_1D)"
   ]
  },
  {
   "cell_type": "markdown",
   "id": "4abd1873-b4be-4e7b-993c-b1f167146cc9",
   "metadata": {},
   "source": [
    "# Câu 2"
   ]
  },
  {
   "cell_type": "code",
   "execution_count": 19,
   "id": "365e43b8-c06b-4191-b66b-108dc4db87a8",
   "metadata": {},
   "outputs": [],
   "source": [
    "lst_2D = [\n",
    "    [1,2,3],\n",
    "    [4,5,6],\n",
    "    [7,8,9]\n",
    "]\n",
    "\n",
    "arr_2D = np.array(lst_2D)\n",
    "pt_2D = torch.tensor(lst_2D)\n",
    "tf_2D = tf.constant(lst_2D)"
   ]
  },
  {
   "cell_type": "code",
   "execution_count": 20,
   "id": "368f6856-5937-42be-9dd6-8de5fae945fa",
   "metadata": {},
   "outputs": [
    {
     "name": "stdout",
     "output_type": "stream",
     "text": [
      "np: [[1 2 3]\n",
      " [4 5 6]\n",
      " [7 8 9]]\n",
      "pytorch: tensor([[1, 2, 3],\n",
      "        [4, 5, 6],\n",
      "        [7, 8, 9]])\n",
      "tensorflow: tf.Tensor(\n",
      "[[1 2 3]\n",
      " [4 5 6]\n",
      " [7 8 9]], shape=(3, 3), dtype=int32)\n"
     ]
    }
   ],
   "source": [
    "print(f\"np: {arr_2D}\")\n",
    "print(f\"pytorch: {pt_2D}\")\n",
    "print(\"tensorflow:\",tf_2D)"
   ]
  },
  {
   "cell_type": "code",
   "execution_count": 23,
   "id": "5485763e-1e02-4091-9b79-8aa6901f6cac",
   "metadata": {},
   "outputs": [
    {
     "name": "stdout",
     "output_type": "stream",
     "text": [
      "Numpy: \n",
      "shape: (3, 3)\n",
      "dtype: int32\n",
      "type: <class 'numpy.ndarray'>\n",
      "\n",
      "Pytorch: \n",
      "shape: torch.Size([3, 3])\n",
      "dtype: torch.int64\n",
      "type: <class 'torch.Tensor'>\n",
      "device: cpu\n",
      "\n",
      "Tensorflow: \n",
      "shape: (3, 3)\n",
      "dtype: <dtype: 'int32'>\n",
      "type: <class 'tensorflow.python.framework.ops.EagerTensor'>\n",
      "device: /job:localhost/replica:0/task:0/device:CPU:0\n"
     ]
    }
   ],
   "source": [
    "print(\"Numpy: \")\n",
    "print(f\"shape: {arr_2D.shape}\")\n",
    "print(f\"dtype: {arr_2D.dtype}\")\n",
    "print(f\"type: {type(arr_2D)}\\n\")\n",
    "\n",
    "print(\"Pytorch: \")\n",
    "print(f\"shape: {pt_2D.shape}\")\n",
    "print(f\"dtype: {pt_2D.dtype}\")\n",
    "print(f\"type: {type(pt_2D)}\")\n",
    "print(f\"device: {pt_2D.device}\\n\")\n",
    "\n",
    "print(\"Tensorflow: \")\n",
    "print(f\"shape: {tf_2D.shape}\")\n",
    "print(f\"dtype: {tf_2D.dtype}\")\n",
    "print(f\"type: {type(tf_2D)}\")\n",
    "print(f\"device: {tf_2D.device}\")"
   ]
  },
  {
   "cell_type": "code",
   "execution_count": null,
   "id": "b025fc20-8c66-414d-b7fc-adc517699147",
   "metadata": {},
   "outputs": [],
   "source": []
  }
 ],
 "metadata": {
  "kernelspec": {
   "display_name": "Python 3 (ipykernel)",
   "language": "python",
   "name": "python3"
  },
  "language_info": {
   "codemirror_mode": {
    "name": "ipython",
    "version": 3
   },
   "file_extension": ".py",
   "mimetype": "text/x-python",
   "name": "python",
   "nbconvert_exporter": "python",
   "pygments_lexer": "ipython3",
   "version": "3.11.7"
  }
 },
 "nbformat": 4,
 "nbformat_minor": 5
}
