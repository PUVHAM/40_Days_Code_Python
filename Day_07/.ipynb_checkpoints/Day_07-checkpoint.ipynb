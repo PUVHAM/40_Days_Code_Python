{
 "cells": [
  {
   "cell_type": "markdown",
   "id": "ffc9611e-7582-48ec-bc0c-997108805a51",
   "metadata": {},
   "source": [
    "# Câu 1"
   ]
  },
  {
   "cell_type": "code",
   "execution_count": 16,
   "id": "96190073-e456-4af4-8980-e1d017d81955",
   "metadata": {},
   "outputs": [
    {
     "name": "stdout",
     "output_type": "stream",
     "text": [
      "[2, 4, 6, 8, 10, 12]\n"
     ]
    }
   ],
   "source": [
    "lst = []\n",
    "for num in range(1,13):\n",
    "    if num % 2 == 0:\n",
    "        lst.append(num)\n",
    "print(lst)"
   ]
  },
  {
   "cell_type": "markdown",
   "id": "8713d5cb-f84a-4ad3-bf56-f7e66317fbfa",
   "metadata": {},
   "source": [
    "# Câu 2"
   ]
  },
  {
   "cell_type": "code",
   "execution_count": 17,
   "id": "7fb64a9f-07e1-4a37-a1bd-10d16ca5af65",
   "metadata": {},
   "outputs": [
    {
     "name": "stdout",
     "output_type": "stream",
     "text": [
      "[2, 4, 8, 10]\n"
     ]
    }
   ],
   "source": [
    "for num in lst:\n",
    "    if num % 3 == 0:\n",
    "        lst.remove(num)\n",
    "print(lst)"
   ]
  },
  {
   "cell_type": "markdown",
   "id": "2d0136e1-a4f5-4cd3-b301-88671319c5db",
   "metadata": {},
   "source": [
    "# Câu 3"
   ]
  },
  {
   "cell_type": "code",
   "execution_count": 18,
   "id": "a9be0cd6-ab9a-4a5d-983e-8039a0f0df2c",
   "metadata": {},
   "outputs": [
    {
     "name": "stdout",
     "output_type": "stream",
     "text": [
      "[2, 4, 8, 6, 7, 8, 10, 1, 2, 3]\n"
     ]
    }
   ],
   "source": [
    "for num in range(1,4):\n",
    "    lst.append(num)\n",
    "lst_range = range(6,9)\n",
    "lst[3:3] =  lst_range\n",
    "print(lst)"
   ]
  },
  {
   "cell_type": "markdown",
   "id": "f2aea1ea-3041-4222-bb61-2b559de579a2",
   "metadata": {},
   "source": [
    "# Câu 4"
   ]
  },
  {
   "cell_type": "code",
   "execution_count": 19,
   "id": "b02dd0c6-b91a-4968-a623-ad7dd5e9e972",
   "metadata": {},
   "outputs": [
    {
     "name": "stdout",
     "output_type": "stream",
     "text": [
      "[0, 0, 0, 0, 7, 0, 0, 1, 0, 3]\n"
     ]
    }
   ],
   "source": [
    "for i in range(len(lst)):\n",
    "    if lst[i] % 2 == 0 or lst[i] % 5 == 0:\n",
    "        lst[i] = 0\n",
    "print(lst)"
   ]
  }
 ],
 "metadata": {
  "kernelspec": {
   "display_name": "Python 3 (ipykernel)",
   "language": "python",
   "name": "python3"
  },
  "language_info": {
   "codemirror_mode": {
    "name": "ipython",
    "version": 3
   },
   "file_extension": ".py",
   "mimetype": "text/x-python",
   "name": "python",
   "nbconvert_exporter": "python",
   "pygments_lexer": "ipython3",
   "version": "3.11.7"
  }
 },
 "nbformat": 4,
 "nbformat_minor": 5
}
