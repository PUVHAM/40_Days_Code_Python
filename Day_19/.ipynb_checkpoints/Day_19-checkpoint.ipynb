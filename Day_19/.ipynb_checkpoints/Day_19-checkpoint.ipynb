{
 "cells": [
  {
   "cell_type": "markdown",
   "id": "e8518eb0-a57f-41f5-b5ae-c77093918750",
   "metadata": {},
   "source": [
    "# File"
   ]
  },
  {
   "cell_type": "code",
   "execution_count": 8,
   "id": "083cf125-1c41-4e1b-bc62-f83d6e0bfcd9",
   "metadata": {},
   "outputs": [
    {
     "name": "stdout",
     "output_type": "stream",
     "text": [
      "[1, 2, 3, 4, 5, 6, 7, 8, 9, 10]\n"
     ]
    }
   ],
   "source": [
    "lst_data = [num for num in range(1,11)]\n",
    "print(lst_data)"
   ]
  },
  {
   "cell_type": "markdown",
   "id": "aec88b04-1451-47b6-ad24-2a27d661cfbf",
   "metadata": {},
   "source": [
    "## Câu 1"
   ]
  },
  {
   "cell_type": "code",
   "execution_count": 9,
   "id": "978d6f02-fc99-4f68-bb2f-d4d2e90fc330",
   "metadata": {},
   "outputs": [],
   "source": [
    "with open(\"data.txt\",\"w\") as f:\n",
    "    f.write('-'.join([str(num) for num in lst_data]))"
   ]
  },
  {
   "cell_type": "markdown",
   "id": "506e9d50-149c-44a1-b94b-d37746cf72a3",
   "metadata": {},
   "source": [
    "## Câu 2"
   ]
  },
  {
   "cell_type": "code",
   "execution_count": 10,
   "id": "e628bc07-39cc-4fad-af1b-bc8717b613ec",
   "metadata": {},
   "outputs": [
    {
     "data": {
      "text/plain": [
       "['1', '2', '3', '4', '5', '6', '7', '8', '9', '10']"
      ]
     },
     "execution_count": 10,
     "metadata": {},
     "output_type": "execute_result"
    }
   ],
   "source": [
    "with open(\"data.txt\",\"r\") as f:\n",
    "    lst_filter_str = f.read().strip()\n",
    "\n",
    "lst_filter_str.split('-')"
   ]
  },
  {
   "cell_type": "code",
   "execution_count": 12,
   "id": "4aa83151-fb98-4356-a177-fcb330a56121",
   "metadata": {},
   "outputs": [
    {
     "name": "stdout",
     "output_type": "stream",
     "text": [
      "[3, 6, 9]\n"
     ]
    }
   ],
   "source": [
    "lst_filter = [int(num) for num in lst_filter_str.split('-') if int(num) % 3 == 0]\n",
    "print(lst_filter)"
   ]
  },
  {
   "cell_type": "markdown",
   "id": "2122cd24-c17d-44cc-ae96-a9577002cee9",
   "metadata": {},
   "source": [
    "# Pandas"
   ]
  },
  {
   "cell_type": "code",
   "execution_count": 13,
   "id": "61638c6a-93de-4241-b0c9-d0af94ca80e2",
   "metadata": {},
   "outputs": [],
   "source": [
    "import pandas as pd"
   ]
  },
  {
   "cell_type": "code",
   "execution_count": 14,
   "id": "68a6a158-053f-42bb-848e-212ce424d041",
   "metadata": {},
   "outputs": [],
   "source": [
    "df = pd.read_csv(\"menu.csv\")"
   ]
  },
  {
   "cell_type": "code",
   "execution_count": 15,
   "id": "b3d22840-f371-471a-a13c-1ac841860ca1",
   "metadata": {},
   "outputs": [
    {
     "name": "stdout",
     "output_type": "stream",
     "text": [
      "          Calories  Calories from Fat   Total Fat  Total Fat (% Daily Value)  \\\n",
      "count   260.000000         260.000000  260.000000                 260.000000   \n",
      "mean    368.269231         127.096154   14.165385                  21.815385   \n",
      "std     240.269886         127.875914   14.205998                  21.885199   \n",
      "min       0.000000           0.000000    0.000000                   0.000000   \n",
      "25%     210.000000          20.000000    2.375000                   3.750000   \n",
      "50%     340.000000         100.000000   11.000000                  17.000000   \n",
      "75%     500.000000         200.000000   22.250000                  35.000000   \n",
      "max    1880.000000        1060.000000  118.000000                 182.000000   \n",
      "\n",
      "       Saturated Fat  Saturated Fat (% Daily Value)   Trans Fat  Cholesterol  \\\n",
      "count     260.000000                     260.000000  260.000000   260.000000   \n",
      "mean        6.007692                      29.965385    0.203846    54.942308   \n",
      "std         5.321873                      26.639209    0.429133    87.269257   \n",
      "min         0.000000                       0.000000    0.000000     0.000000   \n",
      "25%         1.000000                       4.750000    0.000000     5.000000   \n",
      "50%         5.000000                      24.000000    0.000000    35.000000   \n",
      "75%        10.000000                      48.000000    0.000000    65.000000   \n",
      "max        20.000000                     102.000000    2.500000   575.000000   \n",
      "\n",
      "       Cholesterol (% Daily Value)       Sodium  ...  Carbohydrates  \\\n",
      "count                   260.000000   260.000000  ...     260.000000   \n",
      "mean                     18.392308   495.750000  ...      47.346154   \n",
      "std                      29.091653   577.026323  ...      28.252232   \n",
      "min                       0.000000     0.000000  ...       0.000000   \n",
      "25%                       2.000000   107.500000  ...      30.000000   \n",
      "50%                      11.000000   190.000000  ...      44.000000   \n",
      "75%                      21.250000   865.000000  ...      60.000000   \n",
      "max                     192.000000  3600.000000  ...     141.000000   \n",
      "\n",
      "       Carbohydrates (% Daily Value)  Dietary Fiber  \\\n",
      "count                     260.000000     260.000000   \n",
      "mean                       15.780769       1.630769   \n",
      "std                         9.419544       1.567717   \n",
      "min                         0.000000       0.000000   \n",
      "25%                        10.000000       0.000000   \n",
      "50%                        15.000000       1.000000   \n",
      "75%                        20.000000       3.000000   \n",
      "max                        47.000000       7.000000   \n",
      "\n",
      "       Dietary Fiber (% Daily Value)      Sugars     Protein  \\\n",
      "count                     260.000000  260.000000  260.000000   \n",
      "mean                        6.530769   29.423077   13.338462   \n",
      "std                         6.307057   28.679797   11.426146   \n",
      "min                         0.000000    0.000000    0.000000   \n",
      "25%                         0.000000    5.750000    4.000000   \n",
      "50%                         5.000000   17.500000   12.000000   \n",
      "75%                        10.000000   48.000000   19.000000   \n",
      "max                        28.000000  128.000000   87.000000   \n",
      "\n",
      "       Vitamin A (% Daily Value)  Vitamin C (% Daily Value)  \\\n",
      "count                 260.000000                 260.000000   \n",
      "mean                   13.426923                   8.534615   \n",
      "std                    24.366381                  26.345542   \n",
      "min                     0.000000                   0.000000   \n",
      "25%                     2.000000                   0.000000   \n",
      "50%                     8.000000                   0.000000   \n",
      "75%                    15.000000                   4.000000   \n",
      "max                   170.000000                 240.000000   \n",
      "\n",
      "       Calcium (% Daily Value)  Iron (% Daily Value)  \n",
      "count               260.000000            260.000000  \n",
      "mean                 20.973077              7.734615  \n",
      "std                  17.019953              8.723263  \n",
      "min                   0.000000              0.000000  \n",
      "25%                   6.000000              0.000000  \n",
      "50%                  20.000000              4.000000  \n",
      "75%                  30.000000             15.000000  \n",
      "max                  70.000000             40.000000  \n",
      "\n",
      "[8 rows x 21 columns]\n"
     ]
    }
   ],
   "source": [
    "print(df.describe())"
   ]
  },
  {
   "cell_type": "code",
   "execution_count": 16,
   "id": "64a00ebd-b91f-45cb-a6da-590a6b60fa14",
   "metadata": {},
   "outputs": [
    {
     "name": "stdout",
     "output_type": "stream",
     "text": [
      "<class 'pandas.core.frame.DataFrame'>\n",
      "RangeIndex: 260 entries, 0 to 259\n",
      "Data columns (total 24 columns):\n",
      " #   Column                         Non-Null Count  Dtype  \n",
      "---  ------                         --------------  -----  \n",
      " 0   Category                       260 non-null    object \n",
      " 1   Item                           260 non-null    object \n",
      " 2   Serving Size                   260 non-null    object \n",
      " 3   Calories                       260 non-null    int64  \n",
      " 4   Calories from Fat              260 non-null    int64  \n",
      " 5   Total Fat                      260 non-null    float64\n",
      " 6   Total Fat (% Daily Value)      260 non-null    int64  \n",
      " 7   Saturated Fat                  260 non-null    float64\n",
      " 8   Saturated Fat (% Daily Value)  260 non-null    int64  \n",
      " 9   Trans Fat                      260 non-null    float64\n",
      " 10  Cholesterol                    260 non-null    int64  \n",
      " 11  Cholesterol (% Daily Value)    260 non-null    int64  \n",
      " 12  Sodium                         260 non-null    int64  \n",
      " 13  Sodium (% Daily Value)         260 non-null    int64  \n",
      " 14  Carbohydrates                  260 non-null    int64  \n",
      " 15  Carbohydrates (% Daily Value)  260 non-null    int64  \n",
      " 16  Dietary Fiber                  260 non-null    int64  \n",
      " 17  Dietary Fiber (% Daily Value)  260 non-null    int64  \n",
      " 18  Sugars                         260 non-null    int64  \n",
      " 19  Protein                        260 non-null    int64  \n",
      " 20  Vitamin A (% Daily Value)      260 non-null    int64  \n",
      " 21  Vitamin C (% Daily Value)      260 non-null    int64  \n",
      " 22  Calcium (% Daily Value)        260 non-null    int64  \n",
      " 23  Iron (% Daily Value)           260 non-null    int64  \n",
      "dtypes: float64(3), int64(18), object(3)\n",
      "memory usage: 48.9+ KB\n",
      "None\n"
     ]
    }
   ],
   "source": [
    "print(df.info())"
   ]
  },
  {
   "cell_type": "code",
   "execution_count": 17,
   "id": "b07dfad4-9f56-4dc6-8566-d27c110a0537",
   "metadata": {},
   "outputs": [
    {
     "name": "stdout",
     "output_type": "stream",
     "text": [
      "    Category                              Item    Serving Size  Calories  \\\n",
      "0  Breakfast                      Egg McMuffin  4.8 oz (136 g)       300   \n",
      "1  Breakfast                 Egg White Delight  4.8 oz (135 g)       250   \n",
      "2  Breakfast                  Sausage McMuffin  3.9 oz (111 g)       370   \n",
      "3  Breakfast         Sausage McMuffin with Egg  5.7 oz (161 g)       450   \n",
      "4  Breakfast  Sausage McMuffin with Egg Whites  5.7 oz (161 g)       400   \n",
      "\n",
      "   Calories from Fat  Total Fat  Total Fat (% Daily Value)  Saturated Fat  \\\n",
      "0                120       13.0                         20            5.0   \n",
      "1                 70        8.0                         12            3.0   \n",
      "2                200       23.0                         35            8.0   \n",
      "3                250       28.0                         43           10.0   \n",
      "4                210       23.0                         35            8.0   \n",
      "\n",
      "   Saturated Fat (% Daily Value)  Trans Fat  ...  Carbohydrates  \\\n",
      "0                             25        0.0  ...             31   \n",
      "1                             15        0.0  ...             30   \n",
      "2                             42        0.0  ...             29   \n",
      "3                             52        0.0  ...             30   \n",
      "4                             42        0.0  ...             30   \n",
      "\n",
      "   Carbohydrates (% Daily Value)  Dietary Fiber  \\\n",
      "0                             10              4   \n",
      "1                             10              4   \n",
      "2                             10              4   \n",
      "3                             10              4   \n",
      "4                             10              4   \n",
      "\n",
      "   Dietary Fiber (% Daily Value)  Sugars  Protein  Vitamin A (% Daily Value)  \\\n",
      "0                             17       3       17                         10   \n",
      "1                             17       3       18                          6   \n",
      "2                             17       2       14                          8   \n",
      "3                             17       2       21                         15   \n",
      "4                             17       2       21                          6   \n",
      "\n",
      "   Vitamin C (% Daily Value)  Calcium (% Daily Value)  Iron (% Daily Value)  \n",
      "0                          0                       25                    15  \n",
      "1                          0                       25                     8  \n",
      "2                          0                       25                    10  \n",
      "3                          0                       30                    15  \n",
      "4                          0                       25                    10  \n",
      "\n",
      "[5 rows x 24 columns]\n"
     ]
    }
   ],
   "source": [
    "print(df.head(5))"
   ]
  },
  {
   "cell_type": "code",
   "execution_count": 18,
   "id": "01b013b7-e9de-46ac-998d-ce48f72086c7",
   "metadata": {},
   "outputs": [
    {
     "name": "stdout",
     "output_type": "stream",
     "text": [
      "               Category                                               Item  \\\n",
      "250  Smoothies & Shakes                            Shamrock Shake (Medium)   \n",
      "251  Smoothies & Shakes                             Shamrock Shake (Large)   \n",
      "252  Smoothies & Shakes                McFlurry with M&M’s Candies (Small)   \n",
      "253  Smoothies & Shakes               McFlurry with M&M’s Candies (Medium)   \n",
      "254  Smoothies & Shakes                McFlurry with M&M’s Candies (Snack)   \n",
      "255  Smoothies & Shakes                 McFlurry with Oreo Cookies (Small)   \n",
      "256  Smoothies & Shakes                McFlurry with Oreo Cookies (Medium)   \n",
      "257  Smoothies & Shakes                 McFlurry with Oreo Cookies (Snack)   \n",
      "258  Smoothies & Shakes  McFlurry with Reese's Peanut Butter Cups (Medium)   \n",
      "259  Smoothies & Shakes   McFlurry with Reese's Peanut Butter Cups (Snack)   \n",
      "\n",
      "        Serving Size  Calories  Calories from Fat  Total Fat  \\\n",
      "250     16 fl oz cup       660                170       19.0   \n",
      "251     22 fl oz cup       820                210       23.0   \n",
      "252  10.9 oz (310 g)       650                210       23.0   \n",
      "253  16.2 oz (460 g)       930                290       33.0   \n",
      "254   7.3 oz (207 g)       430                140       15.0   \n",
      "255  10.1 oz (285 g)       510                150       17.0   \n",
      "256  13.4 oz (381 g)       690                200       23.0   \n",
      "257   6.7 oz (190 g)       340                100       11.0   \n",
      "258  14.2 oz (403 g)       810                290       32.0   \n",
      "259   7.1 oz (202 g)       410                150       16.0   \n",
      "\n",
      "     Total Fat (% Daily Value)  Saturated Fat  Saturated Fat (% Daily Value)  \\\n",
      "250                         29           12.0                             61   \n",
      "251                         35           15.0                             73   \n",
      "252                         35           14.0                             72   \n",
      "253                         50           20.0                            102   \n",
      "254                         24           10.0                             48   \n",
      "255                         26            9.0                             44   \n",
      "256                         35           12.0                             58   \n",
      "257                         17            6.0                             29   \n",
      "258                         50           15.0                             76   \n",
      "259                         25            8.0                             38   \n",
      "\n",
      "     Trans Fat  ...  Carbohydrates  Carbohydrates (% Daily Value)  \\\n",
      "250        1.0  ...            109                             36   \n",
      "251        1.0  ...            135                             45   \n",
      "252        0.5  ...             96                             32   \n",
      "253        1.0  ...            139                             46   \n",
      "254        0.0  ...             64                             21   \n",
      "255        0.5  ...             80                             27   \n",
      "256        1.0  ...            106                             35   \n",
      "257        0.0  ...             53                             18   \n",
      "258        1.0  ...            114                             38   \n",
      "259        0.0  ...             57                             19   \n",
      "\n",
      "     Dietary Fiber  Dietary Fiber (% Daily Value)  Sugars  Protein  \\\n",
      "250              0                              0      93       14   \n",
      "251              0                              0     115       18   \n",
      "252              1                              6      89       13   \n",
      "253              2                              7     128       20   \n",
      "254              1                              4      59        9   \n",
      "255              1                              4      64       12   \n",
      "256              1                              5      85       15   \n",
      "257              1                              2      43        8   \n",
      "258              2                              9     103       21   \n",
      "259              1                              5      51       10   \n",
      "\n",
      "     Vitamin A (% Daily Value)  Vitamin C (% Daily Value)  \\\n",
      "250                         25                          0   \n",
      "251                         30                          0   \n",
      "252                         15                          0   \n",
      "253                         25                          0   \n",
      "254                         10                          0   \n",
      "255                         15                          0   \n",
      "256                         20                          0   \n",
      "257                         10                          0   \n",
      "258                         20                          0   \n",
      "259                         10                          0   \n",
      "\n",
      "     Calcium (% Daily Value)  Iron (% Daily Value)  \n",
      "250                       50                     0  \n",
      "251                       60                     0  \n",
      "252                       45                     8  \n",
      "253                       70                    10  \n",
      "254                       30                     4  \n",
      "255                       40                     8  \n",
      "256                       50                    10  \n",
      "257                       25                     6  \n",
      "258                       60                     6  \n",
      "259                       30                     4  \n",
      "\n",
      "[10 rows x 24 columns]\n"
     ]
    }
   ],
   "source": [
    "print(df.tail(10))"
   ]
  },
  {
   "cell_type": "code",
   "execution_count": null,
   "id": "7b8b19fc-0729-47f4-a842-82f407dac8d5",
   "metadata": {},
   "outputs": [],
   "source": []
  }
 ],
 "metadata": {
  "kernelspec": {
   "display_name": "Python 3 (ipykernel)",
   "language": "python",
   "name": "python3"
  },
  "language_info": {
   "codemirror_mode": {
    "name": "ipython",
    "version": 3
   },
   "file_extension": ".py",
   "mimetype": "text/x-python",
   "name": "python",
   "nbconvert_exporter": "python",
   "pygments_lexer": "ipython3",
   "version": "3.11.7"
  }
 },
 "nbformat": 4,
 "nbformat_minor": 5
}
