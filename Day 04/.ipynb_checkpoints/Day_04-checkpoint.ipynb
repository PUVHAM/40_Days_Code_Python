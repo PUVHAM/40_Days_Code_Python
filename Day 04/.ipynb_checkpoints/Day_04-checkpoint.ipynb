{
 "cells": [
  {
   "cell_type": "code",
   "execution_count": 1,
   "id": "28ab1fb9-8c08-4029-9898-4540716555e8",
   "metadata": {},
   "outputs": [
    {
     "name": "stdout",
     "output_type": "stream",
     "text": [
      "Alice is a great teacher!\n"
     ]
    }
   ],
   "source": [
    "name = 'Alice'\n",
    "print(f\"{name} is a great teacher!\")"
   ]
  },
  {
   "cell_type": "code",
   "execution_count": 3,
   "id": "80bf306f-297f-4dd2-8446-46346e72fe8a",
   "metadata": {},
   "outputs": [
    {
     "name": "stdout",
     "output_type": "stream",
     "text": [
      "Title case: Ms Taylor\n",
      "Upper case: MS TAYLOR\n",
      "Lower case: ms taylor\n"
     ]
    }
   ],
   "source": [
    "name = 'ms TAYLOR'\n",
    "print(f\"Title case: {name.title()}\")\n",
    "print(f\"Upper case: {name.upper()}\")\n",
    "print(f\"Lower case: {name.lower()}\")"
   ]
  },
  {
   "cell_type": "code",
   "execution_count": null,
   "id": "d36312bd-7c30-469c-9c89-19e83b3a0c15",
   "metadata": {},
   "outputs": [],
   "source": []
  }
 ],
 "metadata": {
  "kernelspec": {
   "display_name": "Python 3 (ipykernel)",
   "language": "python",
   "name": "python3"
  },
  "language_info": {
   "codemirror_mode": {
    "name": "ipython",
    "version": 3
   },
   "file_extension": ".py",
   "mimetype": "text/x-python",
   "name": "python",
   "nbconvert_exporter": "python",
   "pygments_lexer": "ipython3",
   "version": "3.11.7"
  }
 },
 "nbformat": 4,
 "nbformat_minor": 5
}
