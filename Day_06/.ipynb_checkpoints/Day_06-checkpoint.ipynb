{
 "cells": [
  {
   "cell_type": "code",
   "execution_count": 1,
   "id": "831d3433-bde2-40ec-94c6-a74f07145f70",
   "metadata": {},
   "outputs": [
    {
     "name": "stdin",
     "output_type": "stream",
     "text": [
      "Input time:  5 AM\n"
     ]
    },
    {
     "name": "stdout",
     "output_type": "stream",
     "text": [
      "Wake up\n"
     ]
    }
   ],
   "source": [
    "time = input(\"Input time: \")\n",
    "if time == '5 AM':\n",
    "    print('Wupake ')\n",
    "elif time == '6 AM':\n",
    "    print('Yoga')\n",
    "elif time == '7 AM':\n",
    "    print('Work')\n",
    "else: \n",
    "    print('Do something else')"
   ]
  },
  {
   "cell_type": "code",
   "execution_count": 2,
   "id": "c5da75fc-e2c2-4e72-9ad9-37ba8ce3ba59",
   "metadata": {},
   "outputs": [
    {
     "name": "stdin",
     "output_type": "stream",
     "text": [
      "Input time:  6 AM\n"
     ]
    },
    {
     "data": {
      "text/plain": [
       "'Yoga'"
      ]
     },
     "execution_count": 2,
     "metadata": {},
     "output_type": "execute_result"
    }
   ],
   "source": [
    "dict_time = {'5 AM': 'Wake up',\n",
    "        '6 AM': 'Yoga',\n",
    "        '7 AM': 'Work'}\n",
    "time = input(\"Input time: \")\n",
    "dict_time.get(time, 'Do something else')"
   ]
  },
  {
   "cell_type": "code",
   "execution_count": 3,
   "id": "5a1ed4fd-e06f-459c-99fa-dd50d4875c6c",
   "metadata": {},
   "outputs": [
    {
     "name": "stdin",
     "output_type": "stream",
     "text": [
      "Input time:  7 AM\n"
     ]
    },
    {
     "name": "stdout",
     "output_type": "stream",
     "text": [
      "Work\n"
     ]
    }
   ],
   "source": [
    "time = input(\"Input time: \")\n",
    "match time:\n",
    "    case '5 AM':\n",
    "        print('Wupake ')\n",
    "    case '6 AM':\n",
    "        print('Yoga')\n",
    "    case '7 AM':\n",
    "        print('Work')\n",
    "    case _: \n",
    "        print('Do something else')"
   ]
  }
 ],
 "metadata": {
  "kernelspec": {
   "display_name": "Python 3 (ipykernel)",
   "language": "python",
   "name": "python3"
  },
  "language_info": {
   "codemirror_mode": {
    "name": "ipython",
    "version": 3
   },
   "file_extension": ".py",
   "mimetype": "text/x-python",
   "name": "python",
   "nbconvert_exporter": "python",
   "pygments_lexer": "ipython3",
   "version": "3.11.7"
  }
 },
 "nbformat": 4,
 "nbformat_minor": 5
}
