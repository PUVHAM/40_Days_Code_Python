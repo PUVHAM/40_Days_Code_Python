{
 "cells": [
  {
   "cell_type": "markdown",
   "id": "ea3bd08e-e018-42c6-8b6e-78d59c929df8",
   "metadata": {},
   "source": [
    "# List comprehension"
   ]
  },
  {
   "cell_type": "code",
   "execution_count": 2,
   "id": "2a0108dc-a7db-4b79-80a1-28c94723c55f",
   "metadata": {},
   "outputs": [],
   "source": [
    "stop_words = ['I','love','and','to']\n",
    "input = \"I love AI and listen to music\""
   ]
  },
  {
   "cell_type": "code",
   "execution_count": 5,
   "id": "54c1f857-adef-4e19-8621-4bb24d4b8674",
   "metadata": {},
   "outputs": [
    {
     "name": "stdout",
     "output_type": "stream",
     "text": [
      "['AI', 'listen', 'music']\n"
     ]
    }
   ],
   "source": [
    "input = input.split()\n",
    "output = [word for word in input if word not in stop_words]\n",
    "print(output)"
   ]
  },
  {
   "cell_type": "markdown",
   "id": "79fb3782-e8bd-4334-a121-1f1a94a467c6",
   "metadata": {},
   "source": [
    "# List and Tuple"
   ]
  },
  {
   "cell_type": "code",
   "execution_count": 6,
   "id": "69fa254b-ec3e-4e4b-adc6-ed0c9a5356b7",
   "metadata": {},
   "outputs": [],
   "source": [
    "import math"
   ]
  },
  {
   "cell_type": "markdown",
   "id": "2cc4f498-528e-4843-b027-4f085b5aaf1a",
   "metadata": {},
   "source": [
    "## Câu 1"
   ]
  },
  {
   "cell_type": "code",
   "execution_count": 7,
   "id": "88974087-45f7-4c31-8419-3e4d7c3b8945",
   "metadata": {},
   "outputs": [],
   "source": [
    "my_tuple1 = (2,3)\n",
    "my_tuple2 = (3,6)"
   ]
  },
  {
   "cell_type": "markdown",
   "id": "45a2144f-c603-4342-889a-85cbc674c9bf",
   "metadata": {},
   "source": [
    "## Câu 2"
   ]
  },
  {
   "cell_type": "code",
   "execution_count": 13,
   "id": "67cdc74d-e63c-4f15-8163-7505407d817c",
   "metadata": {},
   "outputs": [
    {
     "name": "stdout",
     "output_type": "stream",
     "text": [
      "[5, 9]\n",
      "[6, 18]\n"
     ]
    }
   ],
   "source": [
    "add = [(my_tuple1[i] +  my_tuple2[i]) for i in range(len(my_tuple1))]\n",
    "mul = [(my_tuple1[i] *  my_tuple2[i]) for i in range(len(my_tuple1))]\n",
    "print(add)\n",
    "print(mul)"
   ]
  },
  {
   "cell_type": "markdown",
   "id": "256032ab-e863-4e7d-9519-935961888618",
   "metadata": {},
   "source": [
    "## Câu 3"
   ]
  },
  {
   "cell_type": "code",
   "execution_count": 16,
   "id": "bce112f2-7877-47b4-9289-f50b63bd2b75",
   "metadata": {},
   "outputs": [
    {
     "name": "stdout",
     "output_type": "stream",
     "text": [
      "3.1622776601683795\n"
     ]
    }
   ],
   "source": [
    "distance = 0\n",
    "for i in range(len(my_tuple1)):\n",
    "    distance += (my_tuple1[i] -  my_tuple2[i]) ** 2\n",
    "\n",
    "distance = math.sqrt(distance)\n",
    "print(distance)"
   ]
  },
  {
   "cell_type": "markdown",
   "id": "d673c1dd-08b9-4f55-bbd6-2fadc6eea683",
   "metadata": {},
   "source": [
    "## Câu 4"
   ]
  },
  {
   "cell_type": "code",
   "execution_count": 19,
   "id": "677b4ac6-742f-42eb-bffe-3bb556b8edd7",
   "metadata": {},
   "outputs": [
    {
     "name": "stdout",
     "output_type": "stream",
     "text": [
      "1\n",
      "0\n"
     ]
    }
   ],
   "source": [
    "print(my_tuple1.index(3))\n",
    "print(my_tuple2.index(3))"
   ]
  },
  {
   "cell_type": "code",
   "execution_count": null,
   "id": "dcf0de7c-747e-48b3-84aa-a7efd0d2c240",
   "metadata": {},
   "outputs": [],
   "source": []
  }
 ],
 "metadata": {
  "kernelspec": {
   "display_name": "Python 3 (ipykernel)",
   "language": "python",
   "name": "python3"
  },
  "language_info": {
   "codemirror_mode": {
    "name": "ipython",
    "version": 3
   },
   "file_extension": ".py",
   "mimetype": "text/x-python",
   "name": "python",
   "nbconvert_exporter": "python",
   "pygments_lexer": "ipython3",
   "version": "3.11.7"
  }
 },
 "nbformat": 4,
 "nbformat_minor": 5
}
